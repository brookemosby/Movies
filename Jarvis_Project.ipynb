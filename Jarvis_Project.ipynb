{
 "cells": [
  {
   "cell_type": "markdown",
   "metadata": {},
   "source": [
    "# Investigating Movie Success"
   ]
  },
  {
   "cell_type": "markdown",
   "metadata": {},
   "source": [
    "## Introduction\n",
    "Cinema has become one of the highest profiting industries over the past century. The total box office revenue in North America alone amounted to $11.38 billion in 2016. With the possibility of great success, there is also a large risk of financial failure. This data exploration is motivated by answering the question what makes a movie successful. Specifically do higher budgets mean that a movie will be more profitable? Does the date of release affect the movies profit? Is the box office revenue for the opening weekend of a movie a good predictor of the profit of a movie? Answering these questions could save cinema production companies millions."
   ]
  },
  {
   "cell_type": "markdown",
   "metadata": {},
   "source": [
    "## Data Scraped, Downloaded & Cleaned\n",
    "To begin the data investigation, a collection of movies will be needed to gather data on. To accomplish this, movie names will be scraped from the rotten tomatoes top 100 movies for each genre. There are 17 different genres listed, although some movies are listed in multiple genres, and not every genre contains a full list of 100 movies. In total, after eliminating duplicates, there will be 937 distinct movies collected. The collection of movie names will be biased towards more successful productions, although the large selection will resolve some of the bias introduced by the selection method."
   ]
  },
  {
   "cell_type": "code",
   "execution_count": 4,
   "metadata": {
    "collapsed": true,
    "scrolled": true
   },
   "outputs": [],
   "source": [
    "# importing all libraries to be used throughout data exploration\n",
    "import re, json, requests, seaborn, warnings\n",
    "warnings.filterwarnings( 'ignore' )\n",
    "import pandas as pd\n",
    "from bs4 import BeautifulSoup\n",
    "import numpy as np\n",
    "from matplotlib import pyplot as plt, rcParams\n",
    "%matplotlib inline\n",
    "from selenium import webdriver\n",
    "from selenium.webdriver.common.keys import Keys\n",
    "from selenium.common.exceptions import NoSuchElementException\n",
    "from ipyparallel import Client\n",
    "import time"
   ]
  },
  {
   "cell_type": "code",
   "execution_count": 5,
   "metadata": {
    "collapsed": true,
    "scrolled": false
   },
   "outputs": [],
   "source": [
    "df = pd.read_csv(\"movies_10000.csv\",encoding = 'utf8')\n",
    "vals = [\"Position\",\"Const\",\"Created\",\"Modified\",\"Description\",\"Title Type\"]\n",
    "for val in vals:\n",
    "    del df[val]\n",
    "df = df[df[\"Title\"]!=\"The Neon Demon\"] # this movie is formatted differently giving a weird error\n",
    "df1=df[:2000]\n",
    "df2=df[2000:4000]\n",
    "df3=df[4000:6000]\n",
    "df4=df[6000:8000]\n",
    "df5=df[8000:]\n",
    "dfs = [df1,df2,df3,df4,df5]"
   ]
  },
  {
   "cell_type": "code",
   "execution_count": 23,
   "metadata": {},
   "outputs": [],
   "source": [
    "def text_message(text,number):\n",
    "    browser = webdriver.Chrome()\n",
    "    url = \"http://www.txtdrop.com/\"\n",
    "    browser.get( url )\n",
    "    email = browser.find_element_by_id(\"emailfrom\")\n",
    "    email.send_keys(\"brookemosby@hotmail.com\")\n",
    "    first_3 = browser.find_element_by_id(\"npa\")\n",
    "    first_3.send_keys(number[:3])\n",
    "    second_3 = browser.find_element_by_id(\"exchange\")\n",
    "    second_3.send_keys(number[3:6])\n",
    "    last_4 = browser.find_element_by_id(\"number\")\n",
    "    last_4.send_keys(number[6:])\n",
    "    message = browser.find_element_by_name(\"body\")\n",
    "    message.send_keys(text)\n",
    "    browser.find_element_by_name(\"submit\").click()\n",
    "    browser.close()"
   ]
  },
  {
   "cell_type": "code",
   "execution_count": 24,
   "metadata": {},
   "outputs": [],
   "source": [
    "#Gathering data from IMDB\n",
    "browser = webdriver.Chrome()\n",
    "def gather_data(row):\n",
    "    #Function accepts a pd.Series representing a pd.DataFrame row, then \n",
    "    #changes the budget and opening weekend monetary amount to USD, and\n",
    "    #returns the new updated pd.Series with the correct amounts.\n",
    "    url = row[ 1 ]\n",
    "    browser.get( url )\n",
    "    soup = BeautifulSoup( browser.page_source, \"html.parser\" )\n",
    "    time.sleep(10*np.random.random())\n",
    "    # All information needed is contained in h4 tabs\n",
    "    tab = soup.find_all( name = \"h4\" )\n",
    "    B, O, G = False, False, False\n",
    "    for j in tab:\n",
    "        if j.text == \"Budget:\":\n",
    "            row[\"Budget\"] = ( \" \" ).join( j.next_sibling.split() )\n",
    "            B = True\n",
    "        if j.text == \"Opening Weekend:\":\n",
    "            row[\"Opening Weekend\"] = ( \" \" ).join( j.next_sibling.split( ) )\n",
    "            O = True\n",
    "        if \"Gross\" in j.text :\n",
    "            row[\"Gross\"] = ( \" \" ).join( j.next_sibling.split( ) ) \n",
    "            G = True\n",
    "    span = soup.find_all( itemprop = \"awards\" )\n",
    "    text = \"\"\n",
    "    for j in span:\n",
    "        text += \" \" + j.text\n",
    "    text = text.split()\n",
    "    if \"nominations.\" in text  or \"nomination.\" in text:\n",
    "        row[\"Other Nominations\"] = int(text[-2])\n",
    "    else: row[\"Other Nominations\"] = 0\n",
    "    if \"wins.\" in text:\n",
    "        row[\"Other Wins\"] = int(text[text.index(\"wins.\")-1])\n",
    "    elif \"wins\" in text:\n",
    "        row[\"Other Wins\"] = int(text[text.index(\"wins\")-1])    \n",
    "    elif \"win.\" in text:\n",
    "        row[\"Other Wins\"] = int(text[text.index(\"win.\")-1])\n",
    "    elif \"win\" in text:\n",
    "        row[\"Other Wins\"] = int(text[text.index(\"win\")-1])\n",
    "    else: row[\"Other Wins\"] = 0\n",
    "    if \"Oscar.\" in text or \"Oscars.\" in text:\n",
    "        if \"Nominated\" in text:\n",
    "            row[\"Oscar Nominations\"] = int(text[2])\n",
    "            row[\"Oscar Wins\"] = 0\n",
    "        else:\n",
    "            row[\"Oscar Wins\"] = int(text[1])\n",
    "            row[\"Oscar Nominations\"] = 0\n",
    "    else:\n",
    "        row[\"Oscar Wins\"] = 0\n",
    "        row[\"Oscar Nominations\"] = 0\n",
    "\n",
    "    # Inserting NaNs for missing values\n",
    "    if not B: row[\"Budget\"] = np.nan\n",
    "    if not O: row[\"Opening Weekend\"] = np.nan\n",
    "    if not G: row[\"Gross\"] = np.nan\n",
    "    try: row[\"Meta Score\"] = int(soup.find( \"div\",{\"class\":\"metacriticScore\"} ).text)\n",
    "    except: row[\"Meta Score\"] = np.nan\n",
    "    try: row[\"Content Rating\"] = soup.find( itemprop = \"contentRating\" )[\"content\"]\n",
    "    except:\n",
    "        try: row[\"Content Rating\"] = soup.find( itemprop = \"contentRating\" )[\"certificate\"]\n",
    "        except: row[\"Content Rating\"] = \"NR\"\n",
    "\n",
    "    actors = soup.find_all( \"span\",itemprop = \"name\" )\n",
    "    actors =[ actor.text for actor in actors][:10]\n",
    "    for i in range(10):\n",
    "        try: row[\"Actor_\"+str(i)] = actors[i]\n",
    "        except: row[\"Actor_\"+str(i)] = \"NA\"\n",
    "    return row\n",
    "df1 = df1.apply(gather_data,axis=1)\n",
    "browser.close()\n",
    "text_message(\"Finished\",\"6787995970\")"
   ]
  },
  {
   "cell_type": "code",
   "execution_count": 30,
   "metadata": {},
   "outputs": [],
   "source": [
    "df1.to_csv(\"Result_Data/first_2000_uncleaned.csv\")"
   ]
  },
  {
   "cell_type": "code",
   "execution_count": 32,
   "metadata": {},
   "outputs": [
    {
     "data": {
      "text/html": [
       "<div>\n",
       "<style>\n",
       "    .dataframe thead tr:only-child th {\n",
       "        text-align: right;\n",
       "    }\n",
       "\n",
       "    .dataframe thead th {\n",
       "        text-align: left;\n",
       "    }\n",
       "\n",
       "    .dataframe tbody tr th {\n",
       "        vertical-align: top;\n",
       "    }\n",
       "</style>\n",
       "<table border=\"1\" class=\"dataframe\">\n",
       "  <thead>\n",
       "    <tr style=\"text-align: right;\">\n",
       "      <th></th>\n",
       "      <th>Unnamed: 0</th>\n",
       "      <th>Actor_0</th>\n",
       "      <th>Actor_1</th>\n",
       "      <th>Actor_2</th>\n",
       "      <th>Actor_3</th>\n",
       "      <th>Actor_4</th>\n",
       "      <th>Actor_5</th>\n",
       "      <th>Actor_6</th>\n",
       "      <th>Actor_7</th>\n",
       "      <th>Actor_8</th>\n",
       "      <th>...</th>\n",
       "      <th>Opening Weekend</th>\n",
       "      <th>Oscar Nominations</th>\n",
       "      <th>Oscar Wins</th>\n",
       "      <th>Other Nominations</th>\n",
       "      <th>Other Wins</th>\n",
       "      <th>Release Date</th>\n",
       "      <th>Runtime (mins)</th>\n",
       "      <th>Title</th>\n",
       "      <th>URL</th>\n",
       "      <th>Year</th>\n",
       "    </tr>\n",
       "  </thead>\n",
       "  <tbody>\n",
       "    <tr>\n",
       "      <th>1497</th>\n",
       "      <td>1497</td>\n",
       "      <td>Marc Lawrence</td>\n",
       "      <td>Marc Lawrence</td>\n",
       "      <td>Hugh Grant</td>\n",
       "      <td>Drew Barrymore</td>\n",
       "      <td>Scott Porter</td>\n",
       "      <td>Hugh Grant</td>\n",
       "      <td>Scott Porter</td>\n",
       "      <td>Nick Bacon</td>\n",
       "      <td>Andrew Wyatt</td>\n",
       "      <td>...</td>\n",
       "      <td>NaN</td>\n",
       "      <td>0</td>\n",
       "      <td>0</td>\n",
       "      <td>6</td>\n",
       "      <td>0</td>\n",
       "      <td>2007-02-09</td>\n",
       "      <td>96.0</td>\n",
       "      <td>Music and Lyrics</td>\n",
       "      <td>http://www.imdb.com/title/tt0758766/</td>\n",
       "      <td>2007</td>\n",
       "    </tr>\n",
       "    <tr>\n",
       "      <th>1727</th>\n",
       "      <td>1727</td>\n",
       "      <td>Gus Van Sant</td>\n",
       "      <td>Gus Van Sant</td>\n",
       "      <td>Elias McConnell</td>\n",
       "      <td>Alex Frost</td>\n",
       "      <td>Eric Deulen</td>\n",
       "      <td>Alex Frost</td>\n",
       "      <td>Eric Deulen</td>\n",
       "      <td>John Robinson</td>\n",
       "      <td>Elias McConnell</td>\n",
       "      <td>...</td>\n",
       "      <td>NaN</td>\n",
       "      <td>0</td>\n",
       "      <td>0</td>\n",
       "      <td>11</td>\n",
       "      <td>8</td>\n",
       "      <td>2003-05-18</td>\n",
       "      <td>81.0</td>\n",
       "      <td>Elephant</td>\n",
       "      <td>http://www.imdb.com/title/tt0363589/</td>\n",
       "      <td>2003</td>\n",
       "    </tr>\n",
       "    <tr>\n",
       "      <th>1203</th>\n",
       "      <td>1203</td>\n",
       "      <td>Pierre Morel</td>\n",
       "      <td>Adi Hasak</td>\n",
       "      <td>Luc Besson</td>\n",
       "      <td>John Travolta</td>\n",
       "      <td>Jonathan Rhys Meyers</td>\n",
       "      <td>Kasia Smutniak</td>\n",
       "      <td>John Travolta</td>\n",
       "      <td>Jonathan Rhys Meyers</td>\n",
       "      <td>Kasia Smutniak</td>\n",
       "      <td>...</td>\n",
       "      <td>NaN</td>\n",
       "      <td>0</td>\n",
       "      <td>0</td>\n",
       "      <td>0</td>\n",
       "      <td>0</td>\n",
       "      <td>2010-02-04</td>\n",
       "      <td>92.0</td>\n",
       "      <td>From Paris with Love</td>\n",
       "      <td>http://www.imdb.com/title/tt1179034/</td>\n",
       "      <td>2010</td>\n",
       "    </tr>\n",
       "    <tr>\n",
       "      <th>1246</th>\n",
       "      <td>1246</td>\n",
       "      <td>Abdellatif Kechiche</td>\n",
       "      <td>Abdellatif Kechiche</td>\n",
       "      <td>Ghalia Lacroix</td>\n",
       "      <td>Léa Seydoux</td>\n",
       "      <td>Adèle Exarchopoulos</td>\n",
       "      <td>Salim Kechiouche</td>\n",
       "      <td>Léa Seydoux</td>\n",
       "      <td>Adèle Exarchopoulos</td>\n",
       "      <td>Salim Kechiouche</td>\n",
       "      <td>...</td>\n",
       "      <td>NaN</td>\n",
       "      <td>0</td>\n",
       "      <td>0</td>\n",
       "      <td>94</td>\n",
       "      <td>84</td>\n",
       "      <td>2013-05-23</td>\n",
       "      <td>180.0</td>\n",
       "      <td>La vie d'Ad�le</td>\n",
       "      <td>http://www.imdb.com/title/tt2278871/</td>\n",
       "      <td>2013</td>\n",
       "    </tr>\n",
       "    <tr>\n",
       "      <th>1584</th>\n",
       "      <td>1584</td>\n",
       "      <td>Franklin J. Schaffner</td>\n",
       "      <td>Francis Ford Coppola</td>\n",
       "      <td>Edmund H. North</td>\n",
       "      <td>George C. Scott</td>\n",
       "      <td>Karl Malden</td>\n",
       "      <td>Stephen Young</td>\n",
       "      <td>George C. Scott</td>\n",
       "      <td>Karl Malden</td>\n",
       "      <td>Stephen Young</td>\n",
       "      <td>...</td>\n",
       "      <td>NaN</td>\n",
       "      <td>0</td>\n",
       "      <td>7</td>\n",
       "      <td>8</td>\n",
       "      <td>17</td>\n",
       "      <td>1970-02-04</td>\n",
       "      <td>172.0</td>\n",
       "      <td>Patton</td>\n",
       "      <td>http://www.imdb.com/title/tt0066206/</td>\n",
       "      <td>1970</td>\n",
       "    </tr>\n",
       "  </tbody>\n",
       "</table>\n",
       "<p>5 rows × 29 columns</p>\n",
       "</div>"
      ],
      "text/plain": [
       "      Unnamed: 0                Actor_0               Actor_1  \\\n",
       "1497        1497          Marc Lawrence         Marc Lawrence   \n",
       "1727        1727           Gus Van Sant          Gus Van Sant   \n",
       "1203        1203           Pierre Morel             Adi Hasak   \n",
       "1246        1246    Abdellatif Kechiche   Abdellatif Kechiche   \n",
       "1584        1584  Franklin J. Schaffner  Francis Ford Coppola   \n",
       "\n",
       "              Actor_2          Actor_3               Actor_4  \\\n",
       "1497       Hugh Grant   Drew Barrymore          Scott Porter   \n",
       "1727  Elias McConnell       Alex Frost           Eric Deulen   \n",
       "1203       Luc Besson    John Travolta  Jonathan Rhys Meyers   \n",
       "1246   Ghalia Lacroix      Léa Seydoux   Adèle Exarchopoulos   \n",
       "1584  Edmund H. North  George C. Scott           Karl Malden   \n",
       "\n",
       "               Actor_5          Actor_6               Actor_7  \\\n",
       "1497        Hugh Grant     Scott Porter            Nick Bacon   \n",
       "1727        Alex Frost      Eric Deulen         John Robinson   \n",
       "1203    Kasia Smutniak    John Travolta  Jonathan Rhys Meyers   \n",
       "1246  Salim Kechiouche      Léa Seydoux   Adèle Exarchopoulos   \n",
       "1584     Stephen Young  George C. Scott           Karl Malden   \n",
       "\n",
       "               Actor_8  ...  Opening Weekend Oscar Nominations Oscar Wins  \\\n",
       "1497      Andrew Wyatt  ...              NaN                 0          0   \n",
       "1727   Elias McConnell  ...              NaN                 0          0   \n",
       "1203    Kasia Smutniak  ...              NaN                 0          0   \n",
       "1246  Salim Kechiouche  ...              NaN                 0          0   \n",
       "1584     Stephen Young  ...              NaN                 0          7   \n",
       "\n",
       "     Other Nominations Other Wins Release Date  Runtime (mins)  \\\n",
       "1497                 6          0   2007-02-09            96.0   \n",
       "1727                11          8   2003-05-18            81.0   \n",
       "1203                 0          0   2010-02-04            92.0   \n",
       "1246                94         84   2013-05-23           180.0   \n",
       "1584                 8         17   1970-02-04           172.0   \n",
       "\n",
       "                     Title                                   URL  Year  \n",
       "1497      Music and Lyrics  http://www.imdb.com/title/tt0758766/  2007  \n",
       "1727              Elephant  http://www.imdb.com/title/tt0363589/  2003  \n",
       "1203  From Paris with Love  http://www.imdb.com/title/tt1179034/  2010  \n",
       "1246        La vie d'Ad�le  http://www.imdb.com/title/tt2278871/  2013  \n",
       "1584                Patton  http://www.imdb.com/title/tt0066206/  1970  \n",
       "\n",
       "[5 rows x 29 columns]"
      ]
     },
     "execution_count": 32,
     "metadata": {},
     "output_type": "execute_result"
    }
   ],
   "source": [
    "df1 = pd.read_csv(\"Result_Data/first_2000_uncleaned.csv\")\n",
    "df1.sample(5)"
   ]
  },
  {
   "cell_type": "markdown",
   "metadata": {},
   "source": [
    "### Gathering Monetary Information on Each Movie\n",
    "After accumulating movie names, motion picture content rating, and the rotten tomatoes score, the dataset is still missing information on the movie budget, opening weekend revenue, and gross income, which will provide the numerical data points necessary to understand the factors that make a movie successful. The data points will be collected from IMDB, which is a reputable source for information, according to their website, \n",
    "\n",
    ">\"we [IMDB] actively gather information from and verify items with studios and \n",
    "filmmakers\".\n",
    "\n",
    "While collecting the data points, it will be convient and valuable to find the release date of the movie and add to the dataset."
   ]
  },
  {
   "cell_type": "code",
   "execution_count": null,
   "metadata": {
    "collapsed": true
   },
   "outputs": [],
   "source": [
    "x=set()\n",
    "for text in df[\"Genres\"]:\n",
    "    genres = text.split()\n",
    "    for genre in genres:\n",
    "        x.add(genre)\n",
    "print(x)"
   ]
  },
  {
   "cell_type": "markdown",
   "metadata": {},
   "source": [
    "### Uncleaned Dataset"
   ]
  },
  {
   "cell_type": "markdown",
   "metadata": {},
   "source": [
    "## Cleaning Data\n",
    "After gathering each data point, the data set is complete, although the information is not clean or uniform. The first step to clean up the names and release dates, will be to remove any phrases in parenthesis across the rows of the DataFrame. Following the removal of parenthesis, will be the removal of all commas across each column in the DataFrame. Removing commas will make it easier to convert monetary amounts to ints. Next each date in the Release column will be changed to a pandas date object, which will simplify any calculations that rely on the release date of the movie. Finally each monetary amount will be converted into an int, while creating place holder columns for the currency type of the budget and opening weekend revenue. The gross income column of the movie DataFrame is listed in USD solely, so this value will not need a place holder column for it. The dataset is now cleaned, although the information is not given in uniform units, which will need to be addressed."
   ]
  },
  {
   "cell_type": "code",
   "execution_count": null,
   "metadata": {
    "collapsed": true,
    "scrolled": true
   },
   "outputs": [],
   "source": [
    "df1 = df\n",
    "def remove_parenthesis( row ):\n",
    "    \"\"\"\n",
    "    Function accepts a pd.Series describing a row of a DataFrame. For each \n",
    "    value in the row the string before the first opening parenthesis becomes \n",
    "    the new value. The new pd.Series of the row is returned, without any \n",
    "    phrases in parenthesis.\n",
    "    \"\"\"\n",
    "    row = [ str( value ).split( \"(\" )[ 0 ] for value in row ]\n",
    "    return pd.Series( row )\n",
    "def remove_comma( row ):\n",
    "    \"\"\"\n",
    "    Function accepts a pd.Series describing a row of a DataFrame. For each \n",
    "    value in the row the string is split by commas, then joined without \n",
    "    them. The new pd.Series of the row is returned, without commas.\n",
    "    \"\"\"\n",
    "    row = [ ( \"\" ).join( str( value ).split( \",\" ) ) for value in row ]\n",
    "    return pd.Series( row )\n",
    "def _type( currency ):\n",
    "    \"\"\"\n",
    "    Function accepts a value representing a monetary amount. If the value \n",
    "    is a string \"nan\", then np.nan is returned. If the monetary amount split\n",
    "    by spaces has length greater than one, then this implies that there is a \n",
    "    string, such as AUD, before the monetary amount, this currency indicator \n",
    "    will be returned. If the monetary amount split by spaces only consist of \n",
    "    one item, that implies a symbol, such as $ is before the monetary amount. \n",
    "    This currency indicator will be returned.\n",
    "    \"\"\"\n",
    "    if currency == \"nan\":\n",
    "        return np.nan\n",
    "    currency_indicator = currency.split()\n",
    "    if len( currency_indicator ) > 1:\n",
    "        return currency_indicator[ 0 ]\n",
    "    else:\n",
    "        return currency[ 0 ]\n",
    "def _int( currency ):\n",
    "    \"\"\"\n",
    "    Function accepts a value representing a monetary amount. If the value is \n",
    "    a string \"nan\", then np.nan is returned. If the monetary amount split by\n",
    "    spaces has length greater than one, then this implies that there is a \n",
    "    string, such as AUD, before the monetary amount, the monetary amount \n",
    "    after the currency indicator will be returned as an int. If the monetary \n",
    "    amount split by spaces only consist of one item, that implies a symbol,\n",
    "    such as $ is before the monetary amount. The monetary amount after the \n",
    "    currency indicator will be returned as an int.\n",
    "    \"\"\"\n",
    "    if currency == \"nan\":\n",
    "        return np.nan\n",
    "    currency_amount = currency.split()\n",
    "    if len( currency_amount ) > 1:\n",
    "        return int( currency_amount[ 1 ] )\n",
    "    else:\n",
    "        return int( currency[ 1: ] )\n",
    "    \n",
    "df1      = df1.apply( remove_parenthesis, axis = 1 )\n",
    "df1      = df1.apply( remove_comma,       axis = 1 )\n",
    "df1[ 3 ] = df1[ 3 ].apply( lambda x: pd.to_datetime( str( x ) ) )\n",
    "df1[ 7 ] = df1[ 4 ].apply( _type )\n",
    "df1[ 8 ] = df1[ 5 ].apply( _type )\n",
    "df1[ 2 ] = df1[ 2 ].apply( lambda x: float( x )  )\n",
    "df1[ 4 ] = df1[ 4 ].apply( _int  ) #column 4 units described by column 7\n",
    "df1[ 5 ] = df1[ 5 ].apply( _int  ) #column 5 units described by column 8\n",
    "df1[ 6 ] = df1[ 6 ].apply( _int  ) #column 6 is all in USD"
   ]
  },
  {
   "cell_type": "markdown",
   "metadata": {},
   "source": [
    "### Converting Currency to USD\n",
    "The next step in unifying the currency units is to convert all monetary amounts into USD. Converting each column to USD will make comparisons valid, and is accomplished by using a dataset which contains the exchange rates for 26 different currencies to USD, for dates throughout the past century. For currencies not listed in USD, the release date of the movie will be used to find the accurate exchange rate to USD, after which the currency will be converted to USD. Once the conversations are calculated, the place holder columns describing the original currency are dropped, resulting in a clean and uniform dataset."
   ]
  },
  {
   "cell_type": "code",
   "execution_count": null,
   "metadata": {
    "collapsed": true,
    "scrolled": false
   },
   "outputs": [],
   "source": [
    "e_r_columns = [ \"Dates\",   \"€\",   \"£\",  \"BRL\", \"CNY\", \"DKK\", \"INR\", \"JPY\", \n",
    "                  \"KRW\", \"MYR\", \"MXN\",  \"NOK\", \"SEK\", \"ZAR\", \"SGD\", \"CHF\", \n",
    "                  \"TWD\", \"THB\", \"VEB\", \"NBDI\", \"NMC\", \"NOI\", \"AUD\", \"NZD\", \n",
    "                  \"CAD\", \"HKD\", \"LKR\" ]\n",
    "exchange_rates = pd.read_csv( \"exchange_rates.csv\", \n",
    "                             skiprows = [ 0, 1, 2, 4, 5, 6 ] )\n",
    "exchange_rates.columns = e_r_columns\n",
    "exchange_rates[ \"Dates\" ] = exchange_rates[ \"Dates\" ].apply( \n",
    "    lambda x: pd.to_datetime( str( x ) ) )\n",
    "\n",
    "def change_to_USD(row):\n",
    "    \"\"\"\n",
    "    Function accepts a pd.Series representing a pd.DataFrame row, then \n",
    "    changes the budget and opening weekend monetary amount to USD, and\n",
    "    returns the new updated pd.Series with the correct amounts.\n",
    "    \"\"\"\n",
    "    date = row[ 3 ]\n",
    "    foreign_budget = row[ 4 ]\n",
    "    foreign_open   = row[ 5 ]\n",
    "    indicator_budget = row[ 7 ]\n",
    "    indicator_open   = row[ 8 ]\n",
    "    \n",
    "    if indicator_budget != \"$\" and indicator_budget != \"nan\":\n",
    "        try:\n",
    "            cur_rate = exchange_rates[ indicator_budget ][ \n",
    "                exchange_rates[ \"Dates\" ] == date ].values[ 0 ]\n",
    "            row[ 4 ] = int( foreign_budget ) / float( cur_rate )\n",
    "        except:\n",
    "            row[ 4 ] = np.nan\n",
    "    if indicator_open   != \"$\" and indicator_open   != \"nan\":\n",
    "        try:\n",
    "            cur_rate = exchange_rates[ indicator_open   ][ \n",
    "                exchange_rates[ \"Dates\" ] == date ].values[ 0 ]\n",
    "            row[ 5 ] = int( foreign_open )  / float( cur_rate )\n",
    "        except:\n",
    "            row[ 5 ] = np.nan\n",
    "    return row\n",
    "\n",
    "df1 = df1.apply( change_to_USD, axis = 1 )\n",
    "\n",
    "# Delete currency indicator columns\n",
    "del df1[ 7 ], df1[ 8 ]\n",
    "df = df1\n",
    "df.columns = columns\n",
    "df.sample( 3 )"
   ]
  },
  {
   "cell_type": "code",
   "execution_count": null,
   "metadata": {
    "collapsed": true
   },
   "outputs": [],
   "source": [
    "df.to_csv( \"Cleaned_Data.csv\" )"
   ]
  },
  {
   "cell_type": "markdown",
   "metadata": {},
   "source": [
    "## Feature Engineering\n",
    "Some adjustments to the dataset will be needed in order to better understand the data. First it will be beneficial to create a column corresponding to the decades of the movies' release date. A column that identifies the profit of the movie will be crucial in determining the financial success of the movie. To create a Profit column, the budget of the movie will be subtracted from the gross income. Finally, there is one remaining issue to be addressed. Because the movies in the dataset span the past century the monetary amounts are not adjusted for inflation, making them difficult to compare directly. To resolve the disagreement between the monetary amounts, a dataset containing the CPI for each year from 1914 will used to adjust for inflation. The CPI, Consumer Price Index, describes the amount of purchasing power the average consumer has. To account for inflation, the current CPI is divided by the CPI of the year when the movie was released to obtain a ratio of purchasing power. The monetary amounts are multiplied by this ratio, resulting in a new monetary amount corresponding to the approximate amount with today's purchasing power. The budget, opening weekend revenue, gross income, and profit of each movie will be adjusted for inflation, and placed into new columns. With the adjusted inflation columns, relationships between variables may become more apparent."
   ]
  },
  {
   "cell_type": "code",
   "execution_count": null,
   "metadata": {
    "collapsed": true
   },
   "outputs": [],
   "source": [
    "# Drop columns with missing data\n",
    "df = df.dropna()\n",
    "# Calculating the decade for the release date\n",
    "df[ \"Decade\" ] = df[ \"Release\" ].apply( lambda x: ( ( x.year % 1900 ) // 10 ) * 10 + 1900  ) \n",
    "df[ \"Profit\" ] = df[ \"Gross\" ] - df[ \"Budget\" ]\n",
    "\n",
    "# Adjusting for inflation\n",
    "inflation_rates = pd.read_csv( \"inflation_rates.csv\", index_col = \"Year\")\n",
    "current_CPI = float( inflation_rates[ \"November\" ].iloc[-1] )\n",
    "def change_to_current(row):\n",
    "    \"\"\"\n",
    "    Function accepts pd.Series describing a row in pd.DataFrame\n",
    "    Then creates new columns adjusting for inflation by multiplying by CPI ratio\n",
    "    Function returns new pd.Series describing row in pd.DataFrame\n",
    "    \"\"\"\n",
    "    year_release  = row[ \"Release\" ].year\n",
    "    month_release = row[ \"Release\" ].month - 1\n",
    "    value_CPI = float( inflation_rates.loc[ year_release ][ 12 ] )\n",
    "    if value_CPI == 0 :\n",
    "        row[ \"Budget_Adjusted\" ], row[ \"Gross_Adjusted\"  ] = np.nan, np.nan\n",
    "        row[ \"Open_Adjusted\"   ], row[ \"Profit_Adjusted\" ] = np.nan, np.nan\n",
    "    else:\n",
    "        row[ \"Budget_Adjusted\" ] = row[ \"Budget\" ] * current_CPI / value_CPI\n",
    "        row[ \"Gross_Adjusted\"  ] = row[ \"Gross\"  ] * current_CPI / value_CPI\n",
    "        row[ \"Open_Adjusted\"   ] = row[ \"Open\"   ] * current_CPI / value_CPI\n",
    "        row[ \"Profit_Adjusted\" ] = row[ \"Profit\" ] * current_CPI / value_CPI\n",
    "    return row\n",
    "df = df.apply( change_to_current, axis = 1 )\n",
    "df.head(3)"
   ]
  },
  {
   "cell_type": "code",
   "execution_count": null,
   "metadata": {
    "collapsed": true
   },
   "outputs": [],
   "source": [
    "df.to_csv( \"Engineered_Data.csv\" )"
   ]
  },
  {
   "cell_type": "markdown",
   "metadata": {},
   "source": [
    "## Visualizing Data\n",
    "The next step to understanding relationships between different variables is visualizing the data. The first step is to investigate how the data has changed over the past century, and compare the change between variables, which may give some insight into relationships between variables."
   ]
  },
  {
   "cell_type": "code",
   "execution_count": null,
   "metadata": {
    "collapsed": true
   },
   "outputs": [],
   "source": [
    "plt.figure( figsize = ( 17, 8 ) )\n",
    "ax4      = plt.subplot( 414 )\n",
    "ax1, ax2 = plt.subplot( 411, sharex = ax4 ), plt.subplot( 412, sharex = ax4 )\n",
    "ax3      = plt.subplot( 413, sharex = ax4 )\n",
    "df.plot( y = \"Gross\",  x = \"Release\", ax = ax1, title = \"Gross by Release Date\" )\n",
    "df.plot( y = \"Budget\", x = \"Release\", ax = ax2, title = \"Budget by Release Date\" )\n",
    "df.plot( y = \"Open\",   x = \"Release\", ax = ax3, title = \"Opening Weekend by Release Date\" )\n",
    "df.plot( y = \"Profit\", x = \"Release\", ax = ax4, title = \"Profit by Release Date\" )\n",
    "plt.show()"
   ]
  },
  {
   "cell_type": "markdown",
   "metadata": {},
   "source": [
    "After observing the graph above, it is apparrent there has been an exponential increase in movie budgets, opening weekend revenues, gross income and profit. It is still unclear how much of this increase is due to inflation over time. Investigating how inflation has changed these four variables is the next rational step."
   ]
  },
  {
   "cell_type": "code",
   "execution_count": null,
   "metadata": {
    "collapsed": true,
    "scrolled": true
   },
   "outputs": [],
   "source": [
    "plt.figure( figsize = ( 17, 8 ) )\n",
    "ax4      = plt.subplot( 414 )\n",
    "ax1, ax2 = plt.subplot( 411, sharex = ax4 ), plt.subplot( 412, sharex = ax4 )\n",
    "ax3      = plt.subplot( 413, sharex = ax4 )\n",
    "df.plot( y = \"Gross_Adjusted\",  x = \"Release\", ax = ax1, \n",
    "        title = \"Inflation Adjusted Gross by Release Date\" )\n",
    "df.plot( y = \"Budget_Adjusted\", x = \"Release\", ax = ax2, \n",
    "        title = \"Inflation Adjusted Budget by Release Date\" )\n",
    "df.plot( y = \"Open_Adjusted\",   x = \"Release\", ax = ax3, \n",
    "        title = \"Inflation Adjusted Opening Weekend by Release Date\" )\n",
    "df.plot( y = \"Profit_Adjusted\", x = \"Release\", ax = ax4, \n",
    "        title = \"Inflation Adjusted Profit by Release Date\" )\n",
    "plt.show()"
   ]
  },
  {
   "cell_type": "markdown",
   "metadata": {},
   "source": [
    "Looking at the variables in the graphs above, it looks as though the the gross income and profit have decreased over time, while the opening weekend revenue and budget have increased over time. It is important to note that there are significantly more movies released in later decades, as demonstrated in the histogram below. "
   ]
  },
  {
   "cell_type": "code",
   "execution_count": null,
   "metadata": {
    "collapsed": true
   },
   "outputs": [],
   "source": [
    "df[\"Decade\"].hist( figsize = ( 17, 2 ) )\n",
    "plt.show()"
   ]
  },
  {
   "cell_type": "markdown",
   "metadata": {},
   "source": [
    "It is interesting to note that the movie with the highest adjusted budget was Titanic, the movie with the highest opening weekend revenue was Harry Potter and the Deathly Hallows - Part 2 and the movie with both the highest gross income and profit was Gone with the Wind. After looking at how the monetary variables are distributed over the past century, it seems reasonable to investigate how the variables are correlated."
   ]
  },
  {
   "cell_type": "code",
   "execution_count": null,
   "metadata": {
    "collapsed": true,
    "scrolled": true
   },
   "outputs": [],
   "source": [
    "plt.figure( figsize = ( 17,3 ) )\n",
    "seaborn.heatmap( df[[\"Decade\", \"Budget_Adjusted\", \"Gross_Adjusted\", \"Open_Adjusted\", \n",
    "                     \"Profit_Adjusted\"]].corr(), annot = True, fmt = \".001f\" )\n",
    "plt.show()"
   ]
  },
  {
   "cell_type": "markdown",
   "metadata": {},
   "source": [
    "The heatmap above gives the strengths of the correlations coefficients, on a scale of -1.0 to 1.0. 1.0 is perfectly positively correlated, and -1.0 is perfectly negatively correlated, meaning each variable will positively correlate to itself perfectly. The heatmap gives some interesting relationships between variables. There were no strong correlations between the unadjusted variables, and thus were excluded from the heatmap above. The first relationship worth notice, is that the later in the century a movie was produced, the worse the adjusted profit and adjusted gross income of the movie would be. A second relationship that needs investigation is the perfect positive correlation between the adjusted gross and the adjusted profit. Since the adjusted profit is calculated from the adjusted gross income, it is reasonable that they would be strongly positively correlated, although extremely unlikely that this would be a perfect relationship. The correlation coefficient for the relationship between the adjusted gross income and the adjusted profit is 0.978601533586, which is strongly positive, although not perfect, as the rounded number in the heatmap would suggest. It is interesting to note that from this heatmap, it seems as though the adjusted budget has little correlation to the adjusted profit. The relationships between the adjusted profit for a movie, and the adjusted budget, adjusted gross income, and adjusted opening weekend revenue still need to be investigated. There may be some intuition to gain from looking at the linear regression for each relationship, which would be the next step in the data exploration."
   ]
  },
  {
   "cell_type": "code",
   "execution_count": null,
   "metadata": {
    "collapsed": true
   },
   "outputs": [],
   "source": [
    "plt.figure( figsize = ( 17,3 ) )\n",
    "ax1 = plt.subplot( 131 )\n",
    "ax2, ax3 = plt.subplot( 132, sharey = ax1 ), plt.subplot( 133, sharey = ax1 )\n",
    "seaborn.regplot( x = \"Budget_Adjusted\", y =\"Profit_Adjusted\", ax = ax1, data = df ) \n",
    "seaborn.regplot( x = \"Open_Adjusted\",   y =\"Profit_Adjusted\", ax = ax2, data = df ) \n",
    "seaborn.regplot( x = \"Gross_Adjusted\",  y =\"Profit_Adjusted\", ax = ax3, data = df ) \n",
    "plt.show()"
   ]
  },
  {
   "cell_type": "markdown",
   "metadata": {},
   "source": [
    "From the graphs above, it is clear that the gross income is the best estimator for the profit, mainly because profit is calculated from the gross income. However the gross income is only useful to estimate the profit, if the variable for the budget is not available. The second best variable for predicting the profit is the opening weekend revenue. The opening weekend revenue may be a more useful predictor for profit than the gross income, because it can give insight into what the profit of a movie may be before it leaves theaters. It is interesting that there is almost no correlation between the budget of a movie, and the profit the movie makes."
   ]
  },
  {
   "cell_type": "code",
   "execution_count": null,
   "metadata": {
    "collapsed": true
   },
   "outputs": [],
   "source": [
    "df[[\"Budget_Adjusted\",\"Open_Adjusted\",\"Gross_Adjusted\",\"Profit_Adjusted\"]].plot( \n",
    "    kind = \"kde\", colormap='Set1', figsize = (17,5) )\n",
    "plt.xlim(-.5e8,1e8)\n",
    "plt.show()"
   ]
  },
  {
   "cell_type": "markdown",
   "metadata": {},
   "source": [
    "Looking at the distributions above we can see that there is a large variance between the adjusted gross income and the adjusted profit, with almost not peak. Whereas, the adjusted budget and the adjusted open weekend revenue are less varied distributions. The adjusted budget has little or no correlation to the adjusted profit, which suggests that the regardless of the budget of a movie, there is still a high risk to lose alot of money."
   ]
  },
  {
   "cell_type": "markdown",
   "metadata": {},
   "source": [
    "## Conclusion\n",
    "Unfortunately there does not seem to be a large correlation between the budget of a movie, and the profit of the production. This suggests that spending large amounts of money on a movie production does not necessarily pay off.  After looking into all the dataset variables, there was little information to be gained from the motion picture content rating, the rotten tomatoes score, and the unadjusted monetary amounts. One of the most useful predictors for the profit of a movie seems to be the opening weekend revenue, which is intuitive. A larger dataset of movies could present more correlations, due to time constraints this dataset was limited to ~1000 movie titles.  More information that could be used as predictors for the profit of a movie would be money and time spent into marketing the movie, and the amount of different trailers released. These variables may play a larger role and factor into what makes a movie more profitable and successfull. Also, collecting information on DVD sales once the movie left the theater could give more insight into just how profitable, or successful the movie was."
   ]
  },
  {
   "cell_type": "code",
   "execution_count": null,
   "metadata": {
    "collapsed": true
   },
   "outputs": [],
   "source": []
  },
  {
   "cell_type": "code",
   "execution_count": null,
   "metadata": {
    "collapsed": true
   },
   "outputs": [],
   "source": []
  }
 ],
 "metadata": {
  "kernelspec": {
   "display_name": "Python 3",
   "language": "python",
   "name": "python3"
  },
  "language_info": {
   "codemirror_mode": {
    "name": "ipython",
    "version": 3
   },
   "file_extension": ".py",
   "mimetype": "text/x-python",
   "name": "python",
   "nbconvert_exporter": "python",
   "pygments_lexer": "ipython3",
   "version": "3.6.1"
  }
 },
 "nbformat": 4,
 "nbformat_minor": 2
}
