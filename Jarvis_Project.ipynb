{
 "cells": [
  {
   "cell_type": "markdown",
   "metadata": {},
   "source": [
    "# Data Scraped, Downloaded & Cleaned"
   ]
  },
  {
   "cell_type": "code",
   "execution_count": 173,
   "metadata": {
    "collapsed": true
   },
   "outputs": [],
   "source": [
    "import re, json, time, requests, seaborn, warnings\n",
    "warnings.filterwarnings('ignore')\n",
    "import pandas as pd\n",
    "from bs4 import BeautifulSoup\n",
    "import numpy as np\n",
    "from matplotlib import pyplot as plt, rcParams\n",
    "%matplotlib inline\n",
    "from selenium import webdriver\n",
    "from selenium.webdriver.common.keys import Keys\n",
    "from selenium.common.exceptions import NoSuchElementException"
   ]
  },
  {
   "cell_type": "markdown",
   "metadata": {},
   "source": [
    "### Source of Movies\n",
    "In the cell below:\n",
    "- I gather the urls for lists of the top 100 movies for each genre from rotten tomatoes. \n",
    "Note: Because I am only scraping movies from a top 100 list from rotten tomatoes, I am definitely gathering a biased selection of movies. Rotten tomatoes doesn't identify how they are ranking these movies as the \"Top 100\" so that could possibly introduce more bias into the data set. To help fix any bias that may be introduced by collecting my movies this way, I will be collecting a large number of movies, ~1000"
   ]
  },
  {
   "cell_type": "code",
   "execution_count": 2,
   "metadata": {
    "collapsed": true,
    "scrolled": false
   },
   "outputs": [],
   "source": [
    "base_url = \"https://www.rottentomatoes.com\"\n",
    "action =\"https://www.rottentomatoes.com/top/bestofrt/top_100_action__adventure_movies/\"\n",
    "url_finder = re.compile(r\"/top/bestofrt/top_100_.*$\")\n",
    "page_source = requests.get(action).text\n",
    "soup = BeautifulSoup(page_source, \"html.parser\")\n",
    "urls = soup.find_all(\"a\", href = url_finder )\n",
    "top = []\n",
    "for url in urls:\n",
    "    top.append(base_url+url[\"href\"])"
   ]
  },
  {
   "cell_type": "markdown",
   "metadata": {},
   "source": [
    "### Collecting Movies' Names\n",
    "In the cell below:\n",
    "- I go to each url that was gathered in the cell above \n",
    "- I get the name of each movie on the list."
   ]
  },
  {
   "cell_type": "code",
   "execution_count": 3,
   "metadata": {},
   "outputs": [],
   "source": [
    "all_movies = []\n",
    "for url in top:\n",
    "    page_source = requests.get(url).text\n",
    "    soup = BeautifulSoup(page_source, \"html.parser\")\n",
    "    top_100 = soup.find('script', type='application/ld+json')\n",
    "    data = json.loads(top_100.text)\n",
    "    list_dict = data[\"itemListElement\"]\n",
    "    for top_movies in list_dict:\n",
    "        page_source = requests.get(top_movies[\"url\"]).text\n",
    "        soup = BeautifulSoup(page_source, \"html.parser\")\n",
    "        data = json.loads(soup.find('script', type='application/ld+json').text)\n",
    "        all_movies.append(data[\"name\"])"
   ]
  },
  {
   "cell_type": "markdown",
   "metadata": {},
   "source": [
    "### Gathering Information on Each Movie\n",
    "In the cell below:\n",
    "- I create a set of the movies name. \n",
    "- For each movie I search IMDB for the specific movie, and pick the first result.\n",
    "- I collect data for \"Director\", \"Writer\", \"Star\", \"Release Date\", \"Budget\", \"Opening Weekend\", \"Gross\"\n",
    "- Any missing data is reported as NaN\n",
    "\n",
    "IMDB is a reputable source for information, according to their website \n",
    "\n",
    ">\"we [IMDB] actively gather information from and verify items with studios and \n",
    "filmmakers\".\n",
    "\n",
    "Because I am picking the first movie result, I may not be picking the exact movie that was listed on rotten tomatoes, which could produce some bias in my dataset. However, it is likely to be the most popular movie searched for, because it will be the first result\n",
    "\n",
    "For each movie I search I collect the first name that appears under \"Director\", \"Writer\", and \"Star\" label. I'm only collecting the first name, because collecting more names can become very complicated very fast. Because I only select the first name, I am relying on IMDB to accurately place the most important person in that category first.\n",
    "\n",
    "I also collect data on the release date, the budget for the movie, the amount of money spent on the movie during the opening weekend, and the gross profit made. \n",
    "Unfortunatley all these monetary amounts come in different currencies, so I will have to make this uniform and convert every currency to USD based on the date that the movie was released."
   ]
  },
  {
   "cell_type": "code",
   "execution_count": 4,
   "metadata": {
    "collapsed": true,
    "scrolled": true
   },
   "outputs": [],
   "source": [
    "all_movies = list(set( all_movies ))\n",
    "#This movie won't produce any results on IMDB with the parenthesis, which will\n",
    "#create an error, so this is a quick fix.\n",
    "oops=all_movies.index(\"The Good, the Bad, the Weird (Joheun-nom, Nabbeun-nom, Isanghan-nom)\")\n",
    "all_movies[oops] = \"The Good, the Bad, the Weird\"\n",
    "n = len(all_movies)\n",
    "data = [[movie] for movie in all_movies]\n",
    "base_url = \"http://www.imdb.com/\"\n",
    "browser = webdriver.Chrome()\n",
    "browser.get(base_url)\n",
    "for i in range(len(data)):\n",
    "    # Get the search bar, type in some text, and press Enter.\n",
    "    search_bar = browser.find_element_by_id(\"navbar-query\")\n",
    "    search_bar.clear() # Clear any pre-set text.\n",
    "    search_bar.send_keys(data[i][0])\n",
    "    search_bar.send_keys(Keys.RETURN) # Press Enter.\n",
    "    soup = BeautifulSoup(browser.page_source,\"html.parser\")\n",
    "    table = soup.find( name = \"table\" )\n",
    "    link = table.find_all(name=\"td\")[1]#choose first search result\n",
    "    url = base_url+link.find(name=\"a\")[\"href\"]\n",
    "    browser.get(url)#get page for first movie result\n",
    "    soup = BeautifulSoup(browser.page_source,\"html.parser\")\n",
    "    tab = soup.find_all(name=\"h4\")\n",
    "    D, W, S, B, O, G, R = False, False, False, False, False, False, False\n",
    "    for j in tab:\n",
    "        if j.text == \"Director:\" or j.text == \"Directors:\":\n",
    "            data[i].append((\" \").join(j.next_sibling.next_sibling.text.split()))\n",
    "            D = True\n",
    "        if j.text == \"Writer:\" or j.text == \"Writers:\":\n",
    "            data[i].append((\" \").join(j.next_sibling.next_sibling.text.split()))\n",
    "            W = True\n",
    "        if j.text == \"Star:\" or j.text == \"Stars:\":\n",
    "            data[i].append((\" \").join(j.next_sibling.next_sibling.text.split()))\n",
    "            S = True\n",
    "        if j.text == \"Budget:\":\n",
    "            data[i].append((\" \").join(j.next_sibling.split()))\n",
    "            B = True\n",
    "        if j.text == \"Opening Weekend:\":\n",
    "            data[i].append((\" \").join(j.next_sibling.split()))\n",
    "            O = True\n",
    "        if j.text == \"Gross:\":\n",
    "            data[i].append((\" \").join(j.next_sibling.split()))\n",
    "            G = True\n",
    "        if j.text == \"Release Date:\":\n",
    "            data[i].append((\" \").join(j.next_sibling.split()))\n",
    "            R = True\n",
    "    if not D:\n",
    "        data[i].insert(1, np.nan)\n",
    "    if not W:\n",
    "        data[i].insert(2, np.nan)\n",
    "    if not S:\n",
    "        data[i].insert(3, np.nan)\n",
    "    if not R:\n",
    "        data[i].insert(4, np.nan)\n",
    "    if not B:\n",
    "        data[i].insert(5, np.nan)\n",
    "    if not O:\n",
    "        data[i].insert(6, np.nan)\n",
    "    if not G:\n",
    "        data[i].insert(7, np.nan)  \n",
    "browser.close()"
   ]
  },
  {
   "cell_type": "markdown",
   "metadata": {},
   "source": [
    "### Uncleaned Dataset"
   ]
  },
  {
   "cell_type": "code",
   "execution_count": 131,
   "metadata": {
    "scrolled": true
   },
   "outputs": [
    {
     "data": {
      "text/html": [
       "<div>\n",
       "<style>\n",
       "    .dataframe thead tr:only-child th {\n",
       "        text-align: right;\n",
       "    }\n",
       "\n",
       "    .dataframe thead th {\n",
       "        text-align: left;\n",
       "    }\n",
       "\n",
       "    .dataframe tbody tr th {\n",
       "        vertical-align: top;\n",
       "    }\n",
       "</style>\n",
       "<table border=\"1\" class=\"dataframe\">\n",
       "  <thead>\n",
       "    <tr style=\"text-align: right;\">\n",
       "      <th></th>\n",
       "      <th>Name</th>\n",
       "      <th>Director</th>\n",
       "      <th>Writer</th>\n",
       "      <th>Star</th>\n",
       "      <th>Release</th>\n",
       "      <th>Budget</th>\n",
       "      <th>Open</th>\n",
       "      <th>Gross</th>\n",
       "    </tr>\n",
       "  </thead>\n",
       "  <tbody>\n",
       "    <tr>\n",
       "      <th>0</th>\n",
       "      <td>Poetry</td>\n",
       "      <td>Chang-dong Lee</td>\n",
       "      <td>Chang-dong Lee</td>\n",
       "      <td>Jeong-hie Yun,</td>\n",
       "      <td>11 February 2011 (USA)</td>\n",
       "      <td>KRW 1,300,000,000</td>\n",
       "      <td>$18,900 (USA)</td>\n",
       "      <td>$355,044</td>\n",
       "    </tr>\n",
       "    <tr>\n",
       "      <th>1</th>\n",
       "      <td>Electric Boogaloo: The Wild, Untold Story of C...</td>\n",
       "      <td>Mark Hartley</td>\n",
       "      <td>Mark Hartley</td>\n",
       "      <td>Sam Firstenberg,</td>\n",
       "      <td>5 June 2015 (UK)</td>\n",
       "      <td>NaN</td>\n",
       "      <td>NaN</td>\n",
       "      <td>NaN</td>\n",
       "    </tr>\n",
       "    <tr>\n",
       "      <th>2</th>\n",
       "      <td>Every Little Step</td>\n",
       "      <td>Adam Del Deo,</td>\n",
       "      <td>NaN</td>\n",
       "      <td>German Alexander,</td>\n",
       "      <td>12 June 2009 (USA)</td>\n",
       "      <td>NaN</td>\n",
       "      <td>$68,504 (USA)</td>\n",
       "      <td>$1,724,351</td>\n",
       "    </tr>\n",
       "  </tbody>\n",
       "</table>\n",
       "</div>"
      ],
      "text/plain": [
       "                                                Name        Director  \\\n",
       "0                                             Poetry  Chang-dong Lee   \n",
       "1  Electric Boogaloo: The Wild, Untold Story of C...    Mark Hartley   \n",
       "2                                  Every Little Step   Adam Del Deo,   \n",
       "\n",
       "           Writer               Star                 Release  \\\n",
       "0  Chang-dong Lee     Jeong-hie Yun,  11 February 2011 (USA)   \n",
       "1    Mark Hartley   Sam Firstenberg,        5 June 2015 (UK)   \n",
       "2             NaN  German Alexander,      12 June 2009 (USA)   \n",
       "\n",
       "              Budget           Open       Gross  \n",
       "0  KRW 1,300,000,000  $18,900 (USA)    $355,044  \n",
       "1                NaN            NaN         NaN  \n",
       "2                NaN  $68,504 (USA)  $1,724,351  "
      ]
     },
     "execution_count": 131,
     "metadata": {},
     "output_type": "execute_result"
    }
   ],
   "source": [
    "columns = [\"Name\",\"Director\",\"Writer\",\"Star\",\"Release\",\"Budget\",\"Open\",\"Gross\"]\n",
    "df = pd.DataFrame( data, index = np.arange(n), columns = columns )\n",
    "df.head(3)"
   ]
  },
  {
   "cell_type": "markdown",
   "metadata": {},
   "source": [
    "### Cleaning Data\n",
    "In the cell below:\n",
    "\n",
    "- I remove any phrases in parenthesis at the end of a name, so that all people with the same names will have the same spelling. \n",
    "\n",
    "- I remove the phrases in parenthesis after the release data, telling where the movie was first released. \n",
    "\n",
    "- I remove any commas at the end of names, and also in monetary amount to make it easier to convert them to ints later. \n",
    "\n",
    "- For each currency, I remove the symbol for the currency in place it in a new column that corresponds to opening weekend, and budget. \n",
    "\n",
    "- Each date is formated uniformly with pandas.to_datetime()\n",
    "\n",
    "Note: Because all gross profits are listed in USD I will not have to worry about that column"
   ]
  },
  {
   "cell_type": "code",
   "execution_count": 132,
   "metadata": {
    "collapsed": true
   },
   "outputs": [],
   "source": [
    "df1=df\n",
    "def remove_parenthesis(x):\n",
    "    x=[str(i).split(\"(\")[0] for i in x]\n",
    "    return pd.Series(x)\n",
    "def remove_comma(x):\n",
    "    l=[]\n",
    "    for i in x:\n",
    "        l.append((\"\").join(str(i).split(\",\")))\n",
    "    return pd.Series(l)\n",
    "df1 = df1.apply(remove_parenthesis, axis = 1)\n",
    "df1 = df1.apply(remove_comma, axis = 1)\n",
    "df1[4] = df1[4].apply(lambda x: pd.to_datetime(str(x)))\n",
    "def _type(x):\n",
    "    if x == \"nan\":\n",
    "        return np.nan\n",
    "    xs=x.split()\n",
    "    if len(xs)>1:\n",
    "        return xs[0]\n",
    "    else:\n",
    "        return x[0]\n",
    "def _int(x):\n",
    "    if x == \"nan\":\n",
    "        return np.nan\n",
    "    xs=x.split()\n",
    "    if len(xs)>1:\n",
    "        return int(xs[1])\n",
    "    else:\n",
    "        return int(x[1:])\n",
    "df1[8] = df1[5].apply(_type)\n",
    "df1[9] = df1[6].apply(_type)\n",
    "df1[5] = df1[5].apply(_int)\n",
    "df1[6] = df1[6].apply(_int)\n",
    "df1[7] = df1[7].apply(_int)\n",
    "#column 7 is all in USD\n",
    "#column 6 units described by column 9\n",
    "#column 5 units described by column 8"
   ]
  },
  {
   "cell_type": "markdown",
   "metadata": {},
   "source": [
    "### Finding Data to Convert Currency\n",
    "In the cell below:\n",
    "- I read in a dataset that I found that has values for the currency rates from dates from 1971 to 2017, for the exchange rate from USD to 26 different currencies"
   ]
  },
  {
   "cell_type": "code",
   "execution_count": 133,
   "metadata": {
    "scrolled": false
   },
   "outputs": [],
   "source": [
    "e_r_columns =[\"Dates\",\"€\",\"£\",\"BRL\",\"CNY\", \"DKK\", \"INR\", \"JPY\", \"KRW\", \"MYR\", \"MXN\", \"NOK\", \"SEK\", \"ZAR\", \"SGD\", \"CHF\", \"TWD\", \"THB\", \"VEB\",\"NBDI\",\"NMC\",\"NOI\",\"AUD\", \"NZD\", \"CAD\", \"HKD\", \"LKR\"]\n",
    "exchange_rates = pd.read_csv(\"exchange_rates.csv\", skiprows = [0,1,2,4,5,6])#, index_col= e_r_columns)\n",
    "exchange_rates.columns = e_r_columns\n",
    "exchange_rates[\"Dates\"] = exchange_rates[\"Dates\"].apply(lambda x: pd.to_datetime(str(x)))"
   ]
  },
  {
   "cell_type": "markdown",
   "metadata": {},
   "source": [
    "### Making Dataset Uniform\n",
    "In the cell below:\n",
    "- I use the previous data set to convert each currency that isn't in USD to USD."
   ]
  },
  {
   "cell_type": "code",
   "execution_count": 134,
   "metadata": {
    "collapsed": true
   },
   "outputs": [],
   "source": [
    "def change_to_USD(x):\n",
    "    date = x[4]\n",
    "    if x[8] != \"$\" and x[8] != \"nan\":\n",
    "        try:\n",
    "            cur_rate = exchange_rates[x[8]][exchange_rates[\"Dates\"] == date].values[0]\n",
    "            x[5] = int(x[5]) / float(cur_rate)\n",
    "        except:\n",
    "            x[5] = np.nan\n",
    "    elif x[9] != \"$\" and x[9] != \"nan\":\n",
    "        try:\n",
    "            cur_rate = exchange_rates[x[9]][exchange_rates[\"Dates\"] == date].values[0]\n",
    "            x[6] = int(x[6]) / float(cur_rate)\n",
    "        except:\n",
    "            x[5] = np.nan\n",
    "    return x\n",
    "df1 = df1.apply(change_to_USD, axis = 1)"
   ]
  },
  {
   "cell_type": "markdown",
   "metadata": {},
   "source": [
    "### Data Cleaned and Uniform\n",
    "In the cell below:\n",
    "- I set my original dataset to the dataset that I have been manipulating so they are both the same"
   ]
  },
  {
   "cell_type": "code",
   "execution_count": 135,
   "metadata": {
    "scrolled": true
   },
   "outputs": [
    {
     "data": {
      "text/html": [
       "<div>\n",
       "<style>\n",
       "    .dataframe thead tr:only-child th {\n",
       "        text-align: right;\n",
       "    }\n",
       "\n",
       "    .dataframe thead th {\n",
       "        text-align: left;\n",
       "    }\n",
       "\n",
       "    .dataframe tbody tr th {\n",
       "        vertical-align: top;\n",
       "    }\n",
       "</style>\n",
       "<table border=\"1\" class=\"dataframe\">\n",
       "  <thead>\n",
       "    <tr style=\"text-align: right;\">\n",
       "      <th></th>\n",
       "      <th>Name</th>\n",
       "      <th>Director</th>\n",
       "      <th>Writer</th>\n",
       "      <th>Star</th>\n",
       "      <th>Release</th>\n",
       "      <th>Budget</th>\n",
       "      <th>Open</th>\n",
       "      <th>Gross</th>\n",
       "    </tr>\n",
       "  </thead>\n",
       "  <tbody>\n",
       "    <tr>\n",
       "      <th>0</th>\n",
       "      <td>Poetry</td>\n",
       "      <td>Chang-dong Lee</td>\n",
       "      <td>Chang-dong Lee</td>\n",
       "      <td>Jeong-hie Yun</td>\n",
       "      <td>2011-02-11</td>\n",
       "      <td>1.154222e+06</td>\n",
       "      <td>18900.0</td>\n",
       "      <td>355044.0</td>\n",
       "    </tr>\n",
       "    <tr>\n",
       "      <th>1</th>\n",
       "      <td>Electric Boogaloo: The Wild Untold Story of Ca...</td>\n",
       "      <td>Mark Hartley</td>\n",
       "      <td>Mark Hartley</td>\n",
       "      <td>Sam Firstenberg</td>\n",
       "      <td>2015-06-05</td>\n",
       "      <td>NaN</td>\n",
       "      <td>NaN</td>\n",
       "      <td>NaN</td>\n",
       "    </tr>\n",
       "    <tr>\n",
       "      <th>2</th>\n",
       "      <td>Every Little Step</td>\n",
       "      <td>Adam Del Deo</td>\n",
       "      <td>nan</td>\n",
       "      <td>German Alexander</td>\n",
       "      <td>2009-06-12</td>\n",
       "      <td>NaN</td>\n",
       "      <td>68504.0</td>\n",
       "      <td>1724351.0</td>\n",
       "    </tr>\n",
       "  </tbody>\n",
       "</table>\n",
       "</div>"
      ],
      "text/plain": [
       "                                                Name        Director  \\\n",
       "0                                             Poetry  Chang-dong Lee   \n",
       "1  Electric Boogaloo: The Wild Untold Story of Ca...    Mark Hartley   \n",
       "2                                  Every Little Step    Adam Del Deo   \n",
       "\n",
       "           Writer              Star    Release        Budget     Open  \\\n",
       "0  Chang-dong Lee     Jeong-hie Yun 2011-02-11  1.154222e+06  18900.0   \n",
       "1    Mark Hartley   Sam Firstenberg 2015-06-05           NaN      NaN   \n",
       "2             nan  German Alexander 2009-06-12           NaN  68504.0   \n",
       "\n",
       "       Gross  \n",
       "0   355044.0  \n",
       "1        NaN  \n",
       "2  1724351.0  "
      ]
     },
     "execution_count": 135,
     "metadata": {},
     "output_type": "execute_result"
    }
   ],
   "source": [
    "del df1[8]\n",
    "del df1[9]\n",
    "df = df1\n",
    "df.columns = columns\n",
    "df.head(3)"
   ]
  },
  {
   "cell_type": "markdown",
   "metadata": {},
   "source": [
    "### Units\n",
    "For the data set above:\n",
    "- Dates have been uniformly written, using pands.to_datetime\n",
    "- All currency is in USD\n",
    "\n",
    "Note: It may be misleading that some entries in the opening weekends have a much larger value than the gross profit. This is because the opening weekends column describes all the money spent on that movie during the opening weekend. This is different from the gross, because the gross describes the profit after everyone has been paid."
   ]
  },
  {
   "cell_type": "code",
   "execution_count": 136,
   "metadata": {
    "collapsed": true
   },
   "outputs": [],
   "source": [
    "df.to_csv(\"Cleaned_Data.csv\")"
   ]
  },
  {
   "cell_type": "markdown",
   "metadata": {},
   "source": [
    "# Initial Feature Engineering"
   ]
  },
  {
   "cell_type": "markdown",
   "metadata": {},
   "source": [
    "In the cell below I create three new columns that can be useful later, when trying to detect trends in the data. \n",
    "- The first new column is a ratio of the budget of the movie to the money spent opening weekend. The second column is a ratio of the budget to the gross profit the movie made. The last new column is the ratio of the money spent on opening weekend to the gross profit made.\n",
    "- I added these columns because it would make it easier to see if there was any type of correlation between factors contributing to ow much a movie made.\n",
    "- After revising my previous code I decided that to make this code work a little better I should go back and replace the strings \"nan\" with np.nan."
   ]
  },
  {
   "cell_type": "code",
   "execution_count": 138,
   "metadata": {},
   "outputs": [
    {
     "data": {
      "text/html": [
       "<div>\n",
       "<style>\n",
       "    .dataframe thead tr:only-child th {\n",
       "        text-align: right;\n",
       "    }\n",
       "\n",
       "    .dataframe thead th {\n",
       "        text-align: left;\n",
       "    }\n",
       "\n",
       "    .dataframe tbody tr th {\n",
       "        vertical-align: top;\n",
       "    }\n",
       "</style>\n",
       "<table border=\"1\" class=\"dataframe\">\n",
       "  <thead>\n",
       "    <tr style=\"text-align: right;\">\n",
       "      <th></th>\n",
       "      <th>Name</th>\n",
       "      <th>Director</th>\n",
       "      <th>Writer</th>\n",
       "      <th>Star</th>\n",
       "      <th>Release</th>\n",
       "      <th>Budget</th>\n",
       "      <th>Open</th>\n",
       "      <th>Gross</th>\n",
       "      <th>Budget.Open</th>\n",
       "      <th>Budget.Gross</th>\n",
       "      <th>Open.Gross</th>\n",
       "    </tr>\n",
       "  </thead>\n",
       "  <tbody>\n",
       "    <tr>\n",
       "      <th>0</th>\n",
       "      <td>Poetry</td>\n",
       "      <td>Chang-dong Lee</td>\n",
       "      <td>Chang-dong Lee</td>\n",
       "      <td>Jeong-hie Yun</td>\n",
       "      <td>2011-02-11</td>\n",
       "      <td>1.154222e+06</td>\n",
       "      <td>18900.000000</td>\n",
       "      <td>355044.0</td>\n",
       "      <td>61.069936</td>\n",
       "      <td>3.250926</td>\n",
       "      <td>0.053233</td>\n",
       "    </tr>\n",
       "    <tr>\n",
       "      <th>1</th>\n",
       "      <td>Electric Boogaloo: The Wild Untold Story of Ca...</td>\n",
       "      <td>Mark Hartley</td>\n",
       "      <td>Mark Hartley</td>\n",
       "      <td>Sam Firstenberg</td>\n",
       "      <td>2015-06-05</td>\n",
       "      <td>1.525000e+07</td>\n",
       "      <td>166334.867933</td>\n",
       "      <td>8057313.5</td>\n",
       "      <td>91.682521</td>\n",
       "      <td>1.892690</td>\n",
       "      <td>0.020644</td>\n",
       "    </tr>\n",
       "    <tr>\n",
       "      <th>2</th>\n",
       "      <td>Every Little Step</td>\n",
       "      <td>Adam Del Deo</td>\n",
       "      <td>nan</td>\n",
       "      <td>German Alexander</td>\n",
       "      <td>2009-06-12</td>\n",
       "      <td>1.525000e+07</td>\n",
       "      <td>68504.000000</td>\n",
       "      <td>1724351.0</td>\n",
       "      <td>222.614738</td>\n",
       "      <td>8.843907</td>\n",
       "      <td>0.039727</td>\n",
       "    </tr>\n",
       "  </tbody>\n",
       "</table>\n",
       "</div>"
      ],
      "text/plain": [
       "                                                Name        Director  \\\n",
       "0                                             Poetry  Chang-dong Lee   \n",
       "1  Electric Boogaloo: The Wild Untold Story of Ca...    Mark Hartley   \n",
       "2                                  Every Little Step    Adam Del Deo   \n",
       "\n",
       "           Writer              Star    Release        Budget           Open  \\\n",
       "0  Chang-dong Lee     Jeong-hie Yun 2011-02-11  1.154222e+06   18900.000000   \n",
       "1    Mark Hartley   Sam Firstenberg 2015-06-05  1.525000e+07  166334.867933   \n",
       "2             nan  German Alexander 2009-06-12  1.525000e+07   68504.000000   \n",
       "\n",
       "       Gross  Budget.Open  Budget.Gross  Open.Gross  \n",
       "0   355044.0    61.069936      3.250926    0.053233  \n",
       "1  8057313.5    91.682521      1.892690    0.020644  \n",
       "2  1724351.0   222.614738      8.843907    0.039727  "
      ]
     },
     "execution_count": 138,
     "metadata": {},
     "output_type": "execute_result"
    }
   ],
   "source": [
    "bud_median = df[\"Budget\"].median()\n",
    "owk_median = df[\"Open\"].median()\n",
    "gro_median = df[\"Gross\"].median()\n",
    "df[\"Budget\"] = df[\"Budget\"].fillna( value = bud_median )\n",
    "df[\"Open\"] = df[\"Open\"].fillna( value = owk_median )\n",
    "df[\"Gross\"] = df[\"Gross\"].fillna( value = gro_median )\n",
    "df[\"Budget.Open\"] = df[\"Budget\"]/df[\"Open\"]\n",
    "df[\"Budget.Gross\"] = df[\"Budget\"]/df[\"Gross\"]\n",
    "df[\"Open.Gross\"] = df[\"Open\"]/df[\"Gross\"]\n",
    "df.head(3)"
   ]
  },
  {
   "cell_type": "code",
   "execution_count": 174,
   "metadata": {},
   "outputs": [],
   "source": [
    "def change_nan(x):\n",
    "    if x == \"nan\":\n",
    "        return np.nan\n",
    "    else:\n",
    "        return x\n",
    "df[\"Director\"] = df[\"Director\"].apply(change_nan)\n",
    "df[\"Director\"] = df[\"Director\"].fillna( value = \"\" )\n",
    "df[\"Writer\"] = df[\"Writer\"].apply(change_nan)\n",
    "df[\"Writer\"] = df[\"Writer\"].fillna( value = \"\" )\n",
    "df[\"Star\"] = df[\"Star\"].apply(change_nan)\n",
    "df[\"Star\"] = df[\"Star\"].fillna( value = \"\" )\n",
    "df=df.dropna()\n",
    "def decade(x):\n",
    "    year = x.year\n",
    "    return ((year%1900)//10)*10+1900\n",
    "df[\"Decade\"] = df[\"Release\"].apply(decade) #calculating the decade for the release date"
   ]
  },
  {
   "cell_type": "code",
   "execution_count": 140,
   "metadata": {},
   "outputs": [],
   "source": [
    "df.to_csv(\"Engineered_Data.csv\")"
   ]
  },
  {
   "cell_type": "markdown",
   "metadata": {},
   "source": [
    "# Visualizing Data"
   ]
  },
  {
   "cell_type": "code",
   "execution_count": 217,
   "metadata": {},
   "outputs": [
    {
     "data": {
      "image/png": "[encoded data removed]",
      "text/plain": [
       "<matplotlib.figure.Figure at 0x22f70e1ec88>"
      ]
     },
     "metadata": {},
     "output_type": "display_data"
    }
   ],
   "source": [
    "plt.figure(figsize=(15,5))\n",
    "ax1,ax2,ax3 = plt.subplot(131),plt.subplot(132),plt.subplot(133)\n",
    "df.plot(y=\"Gross\", x=\"Release\",title = \"Gross by Release Date\",ax=ax1)\n",
    "df.plot(y=\"Budget\",x=\"Release\",title = \"Budget by Release Date\",ax=ax2)\n",
    "df.plot(y=\"Open\",x=\"Release\",title = \"Opening Weekend by Release Date\",ax=ax3)\n",
    "\n",
    "plt.show()"
   ]
  },
  {
   "cell_type": "markdown",
   "metadata": {},
   "source": [
    "From these graphs it's noticable that the budget, gross profit, and opening weeking for movies has exponentially increased over the past century."
   ]
  },
  {
   "cell_type": "code",
   "execution_count": 189,
   "metadata": {},
   "outputs": [
    {
     "data": {
      "image/png": "[encoded data removed]",
      "text/plain": [
       "<matplotlib.figure.Figure at 0x22f72e8e5f8>"
      ]
     },
     "metadata": {},
     "output_type": "display_data"
    }
   ],
   "source": [
    "pd.plotting.scatter_matrix(df[[\"Budget\",\"Open\",\"Gross\"]])\n",
    "plt.show()"
   ]
  },
  {
   "cell_type": "markdown",
   "metadata": {},
   "source": [
    "Observing the scatter matrix above, the budget and gross profit of a movie have a strong positive correlation, while gross profit and opening weekend, and opening weekend and budget both have weaker correlations."
   ]
  },
  {
   "cell_type": "code",
   "execution_count": 205,
   "metadata": {},
   "outputs": [
    {
     "data": {
      "image/png": "[encoded data removed]",
      "text/plain": [
       "<matplotlib.figure.Figure at 0x22f70b64470>"
      ]
     },
     "metadata": {},
     "output_type": "display_data"
    }
   ],
   "source": [
    "seaborn.heatmap(df.corr(), annot=True, fmt=\".1f\")\n",
    "plt.show()"
   ]
  },
  {
   "cell_type": "markdown",
   "metadata": {},
   "source": [
    "This heatplot shows that there is a stong correlation between the budget and gross, with a correlation coefficint of .7 (confirming what the scatterplot demonstrated), also there is a slight positive correlation between the release decade and the budget for the movie. There is also a correlation between the opening weekend and gross, with a coefficient of .3. Interestingly, none of the ratios are in any way correlated to each other."
   ]
  },
  {
   "cell_type": "code",
   "execution_count": 216,
   "metadata": {},
   "outputs": [
    {
     "data": {
      "image/png": "[encoded data removed]",
      "text/plain": [
       "<matplotlib.figure.Figure at 0x22f71ff3dd8>"
      ]
     },
     "metadata": {},
     "output_type": "display_data"
    }
   ],
   "source": [
    "plt.figure(figsize=(15,5))\n",
    "ax1,ax2 = plt.subplot(121),plt.subplot(122)\n",
    "seaborn.violinplot(x=\"Decade\",y=\"Budget\",data=df,ax=ax1)\n",
    "seaborn.violinplot(x=\"Decade\",y=\"Gross\",data=df,ax=ax2)\n",
    "plt.show()"
   ]
  },
  {
   "cell_type": "markdown",
   "metadata": {},
   "source": [
    "The first plot shows the distribution of the budget for each decade using the width of each \"violin\". This violin plot above demonstrates a much larger variance in the budgets for movies in later decades than in previous decades.The second violin plot for the gross profit of movies versus the decade, shows that the gross profit for movies is significantly more variant than the budget for the movies."
   ]
  }
 ],
 "metadata": {
  "kernelspec": {
   "display_name": "Python 3",
   "language": "python",
   "name": "python3"
  },
  "language_info": {
   "codemirror_mode": {
    "name": "ipython",
    "version": 3
   },
   "file_extension": ".py",
   "mimetype": "text/x-python",
   "name": "python",
   "nbconvert_exporter": "python",
   "pygments_lexer": "ipython3",
   "version": "3.6.1"
  }
 },
 "nbformat": 4,
 "nbformat_minor": 2
}
