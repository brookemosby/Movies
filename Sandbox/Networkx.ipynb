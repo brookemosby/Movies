{
 "cells": [
  {
   "cell_type": "code",
   "execution_count": 1,
   "metadata": {
    "collapsed": true
   },
   "outputs": [],
   "source": [
    "import pandas as pd\n",
    "import numpy as np"
   ]
  },
  {
   "cell_type": "code",
   "execution_count": 2,
   "metadata": {
    "collapsed": true
   },
   "outputs": [],
   "source": [
    "d = {\"Actor 01\": [\"A\",\"B\",\"C\",\"M\",\"E\",\"F\",\"G\",\"L\",\"I\",\"J\"],\"Actor 02\": [\"B\",\"K\",\"D\",\"A\",\"F\",\"G\",\"H\",\"I\",\"J\",\"A\"],\n",
    "     \"Actor 03\": [\"C\",\"D\",\"E\",\"F\",\"M\",\"H\",\"L\",\"J\",\"A\",\"B\"],\"Actor 04\": [\"D\",\"E\",\"K\",\"G\",\"H\",\"I\",\"J\",\"A\",\"B\",\"C\"],\n",
    "     \"Actor 05\": [\"E\",\"F\",\"G\",\"H\",\"I\",\"J\",\"A\",\"B\",\"C\",\"D\"],\"Actor 06\": [\"F\",\"M\",\"A\",\"I\",\"K\",\"A\",\"B\",\"C\",\"D\",\"E\"],\n",
    "     \"Actor 07\": [\"G\",\"H\",\"I\",\"J\",\"A\",\"B\",\"C\",\"A\",\"E\",\"F\"],\"Actor 08\": [\"H\",\"I\",\"L\",\"A\",\"B\",\"C\",\"D\",\"E\",\"F\",\"G\"],\n",
    "     \"Actor 09\": [\"I\",\"J\",\"A\",\"B\",\"C\",\"D\",\"M\",\"F\",\"G\",\"L\"],\"Actor 10\": [\"J\",\"A\",\"B\",\"C\",\"D\",\"E\",\"F\",\"K\",\"H\",\"I\"]}\n",
    "df = pd.DataFrame(data=d)\n",
    "rows,columns = df.shape\n"
   ]
  },
  {
   "cell_type": "code",
   "execution_count": 3,
   "metadata": {
    "collapsed": true
   },
   "outputs": [],
   "source": [
    "import networkx as nx\n",
    "nx_graph = nx.Graph()\n",
    "\n",
    "actors = df.as_matrix(columns=[\"Actor 01\",\"Actor 02\",\"Actor 03\",\"Actor 04\",\"Actor 05\",\"Actor 06\",\"Actor 07\",\"Actor 08\",\"Actor 09\",\"Actor 10\"])\n",
    "\n",
    "#print(actors)\n",
    "\n",
    "for i in range(len(actors)):\n",
    "    actors_in_movie = np.sort(np.unique(actors[i,:]))\n",
    "    for j in range(len(actors_in_movie)):\n",
    "        for k in range(j+1,len(actors_in_movie)):\n",
    "            if (actors_in_movie[j],actors_in_movie[k]) not in nx_graph.edges():\n",
    "                nx_graph.add_edge(actors_in_movie[j],actors_in_movie[k],weight=1)\n",
    "            else:\n",
    "                nx_graph.add_edge(actors_in_movie[j],actors_in_movie[k],weight=nx_graph.get_edge_data(actors_in_movie[j],actors_in_movie[k]).get('weight')+1)\n",
    "        \n",
    "\n",
    "#from matplotlib import pyplot as plt\n",
    "#nx.draw(nx_graph)\n",
    "#plt.show()\n",
    "\n"
   ]
  },
  {
   "cell_type": "code",
   "execution_count": 5,
   "metadata": {},
   "outputs": [
    {
     "name": "stdout",
     "output_type": "stream",
     "text": [
      "{'A': 87, 'B': 87, 'C': 78, 'D': 71, 'E': 70, 'F': 79, 'G': 61, 'H': 62, 'I': 78, 'J': 70, 'K': 34, 'M': 35, 'L': 34}\n",
      "['A' 'B' 'C' 'D' 'E' 'F' 'G' 'H' 'I' 'J']\n",
      "['A' 'B' 'D' 'E' 'F' 'H' 'I' 'J' 'K' 'M']\n",
      "['A' 'B' 'C' 'D' 'E' 'G' 'I' 'K' 'L']\n",
      "['A' 'B' 'C' 'F' 'G' 'H' 'I' 'J' 'M']\n",
      "['A' 'B' 'C' 'D' 'E' 'F' 'H' 'I' 'K' 'M']\n",
      "['A' 'B' 'C' 'D' 'E' 'F' 'G' 'H' 'I' 'J']\n",
      "['A' 'B' 'C' 'D' 'F' 'G' 'H' 'J' 'L' 'M']\n",
      "['A' 'B' 'C' 'E' 'F' 'I' 'J' 'K' 'L']\n",
      "['A' 'B' 'C' 'D' 'E' 'F' 'G' 'H' 'I' 'J']\n",
      "['A' 'B' 'C' 'D' 'E' 'F' 'G' 'I' 'J' 'L']\n",
      "[743, 673, 600, 637, 681, 743, 664, 617, 743, 715]\n"
     ]
    }
   ],
   "source": [
    "\"\"\"total = 0\n",
    "for edge in nx_graph.edges():\n",
    "    if edge[0] == 'A' or edge[1] == 'A':\n",
    "        print(edge[0],edge[1],nx_graph.get_edge_data(edge[0],edge[1]).get('weight'))\n",
    "        total += nx_graph.get_edge_data(edge[0],edge[1]).get('weight')\n",
    "print(total)\n",
    "\n",
    "print(np.sort(actors))\n",
    "print(nx_graph.edges())\"\"\"\n",
    "\n",
    "\n",
    "#print(actors,'\\n',np.sort(actors))\n",
    "actor_total_weights = dict()\n",
    "actor_set = nx_graph.nodes()\n",
    "for actor in actor_set:\n",
    "    actor_total_weights[actor] = nx_graph.degree(actor,'weight')\n",
    "    \n",
    "print(actor_total_weights)\n",
    "\n",
    "actor_weight_list = []\n",
    "for i in range(len(actors)):\n",
    "    movie_weight = 0\n",
    "    actors_in_movie = np.sort(np.unique(actors[i,:]))\n",
    "    print(actors_in_movie)\n",
    "    for actor in actors_in_movie:\n",
    "        movie_weight += actor_total_weights[actor]\n",
    "    actor_weight_list.append(movie_weight)\n",
    "\n",
    "print(actor_weight_list)\n",
    "#df1[\"Actor Weights\"] = pd.Series(actor_weight_list).astype(int)"
   ]
  },
  {
   "cell_type": "code",
   "execution_count": 36,
   "metadata": {},
   "outputs": [
    {
     "name": "stdout",
     "output_type": "stream",
     "text": [
      "{'weight': 0.5}\n",
      "{'weight': 1.5}\n",
      "[('A', 'B'), ('A', 'C'), ('A', 'D'), ('A', 'E'), ('B', 'C'), ('C', 'D')]\n",
      "[('A', 'B'), ('A', 'C'), ('A', 'D'), ('A', 'E'), ('B', 'C'), ('C', 'D')]\n"
     ]
    },
    {
     "data": {
      "text/plain": [
       "'from matplotlib import pyplot as plt\\nnx.draw(nx_graph)\\nplt.show()'"
      ]
     },
     "execution_count": 36,
     "metadata": {},
     "output_type": "execute_result"
    }
   ],
   "source": [
    "nx_graph1 = nx.Graph()\n",
    "nx_graph1.add_node('A')\n",
    "nx_graph1.add_node('B')\n",
    "nx_graph1.add_edge('A', 'B')\n",
    "nx_graph1.add_edge('A', 'C') # Node 'C' is added to the graph\n",
    "nx_graph1.add_edges_from([('A', 'D'), ('A', 'E'), ('B', 'C')])\n",
    "\n",
    "nx_graph1.add_edge('C', 'D', weight=0.5)\n",
    "\n",
    "\n",
    "print(nx_graph1.get_edge_data('C', 'D'))\n",
    "\n",
    "nx_graph1.add_edge('C', 'D', weight=nx_graph1.get_edge_data('C','D')['weight']+1)\n",
    "print(nx_graph1.get_edge_data('C', 'D'))\n",
    "\n",
    "print(nx_graph1.edges())\n",
    "\n",
    "if ('B','A') not in nx_graph1.edges():\n",
    "    nx_graph1.add_edge('B','A')\n",
    "    \n",
    "print(nx_graph1.edges())\n",
    "\n",
    "\n",
    "\n",
    "#print(nx_graph.nodes())\n",
    "#print(nx_graph.edges())\n",
    "\n",
    "\"\"\"from matplotlib import pyplot as plt\n",
    "nx.draw(nx_graph)\n",
    "plt.show()\"\"\"\n"
   ]
  },
  {
   "cell_type": "code",
   "execution_count": 50,
   "metadata": {},
   "outputs": [
    {
     "name": "stdout",
     "output_type": "stream",
     "text": [
      "{'weight': 9} {'weight': 9}\n"
     ]
    }
   ],
   "source": [
    "print(nx_graph.get_edge_data('A','B'),nx_graph.get_edge_data('B','A'))"
   ]
  },
  {
   "cell_type": "code",
   "execution_count": null,
   "metadata": {
    "collapsed": true
   },
   "outputs": [],
   "source": [
    "import networkx as nx\n",
    "# Code for actor tree would go here, maybe a diagram too\n",
    "# Check out plotly for networkx\n",
    "rows,columns = df.shape\n",
    "\n",
    "nx_graph = nx.Graph()\n",
    "# Make matrix of 10 actor columns for every movie\n",
    "actors = df.as_matrix(columns=[\"Actor_0\",\"Actor_1\",\"Actor_2\",\"Actor_3\",\"Actor_4\",\"Actor_5\",\"Actor_6\",\"Actor_7\",\"Actor_8\",\"Actor_9\"])\n",
    "# Cycle through each movie\n",
    "for i in range(len(actors)):\n",
    "    # Sort to avoid edge('A','B') != edge('B','A'), unique to remove duplicate actors in a movie\n",
    "    actors_in_movie = np.sort(np.unique(actors[i,:]))\n",
    "    for j in range(len(actors_in_movie)):\n",
    "        for k in range(j+1,len(actors_in_movie)):\n",
    "            # If edge doesn't exist between two actors, make it with weight 1\n",
    "            if (actors_in_movie[j],actors_in_movie[k]) not in nx_graph.edges():\n",
    "                nx_graph.add_edge(actors_in_movie[j],actors_in_movie[k],weight=1)\n",
    "            # If it does exist, add one to the preivous edge's weight\n",
    "            else:\n",
    "                nx_graph.add_edge(actors_in_movie[j],actors_in_movie[k],weight=nx_graph.get_edge_data(actors_in_movie[j],actors_in_movie[k]).get('weight')+1)\n",
    "\n",
    "\n",
    "actor_total_weights = dict()\n",
    "actor_set = nx_graph.nodes()\n",
    "# Dictionary with \"Actor\": number of total connections with all other actors\n",
    "for actor in actor_set:\n",
    "    actor_total_weights[actor] = nx_graph.degree(actor,'weight')"
   ]
  }
 ],
 "metadata": {
  "kernelspec": {
   "display_name": "Python 3",
   "language": "python",
   "name": "python3"
  },
  "language_info": {
   "codemirror_mode": {
    "name": "ipython",
    "version": 3
   },
   "file_extension": ".py",
   "mimetype": "text/x-python",
   "name": "python",
   "nbconvert_exporter": "python",
   "pygments_lexer": "ipython3",
   "version": "3.6.4"
  }
 },
 "nbformat": 4,
 "nbformat_minor": 2
}
