{
 "cells": [
  {
   "cell_type": "code",
   "execution_count": 10,
   "metadata": {
    "collapsed": true
   },
   "outputs": [],
   "source": [
    "import pandas as pd\n",
    "import numpy as np"
   ]
  },
  {
   "cell_type": "code",
   "execution_count": 20,
   "metadata": {},
   "outputs": [
    {
     "data": {
      "text/plain": [
       "'actor_weights = {}\\nfor x in df[[\"Actor 1\",\"Actor 2\",\"Actor 3\",\"Actor 4\",\"Actor 5\",\"Actor 6\",\"Actor 7\",\"Actor 8\",\"Actor 9\",\"Actor 10\"]]:\\n    actors = [df[x][j] for j in range(10)]\\n    for i in range(len(actors)-1):\\n        edge = actors[i] + \" to \" + actors[i+1]\\n        if edge not in actor_weights:\\n            actor_weights[edge] = 1\\n        else:\\n            actor_weights[edge] += 1\\nprint(actor_weights)'"
      ]
     },
     "execution_count": 20,
     "metadata": {},
     "output_type": "execute_result"
    }
   ],
   "source": [
    "d = {\"Actor 01\": [\"A\",\"B\",\"C\",\"M\",\"E\",\"F\",\"G\",\"L\",\"I\",\"J\"],\"Actor 02\": [\"B\",\"K\",\"D\",\"E\",\"F\",\"G\",\"H\",\"I\",\"J\",\"A\"],\n",
    "     \"Actor 03\": [\"C\",\"D\",\"E\",\"F\",\"M\",\"H\",\"L\",\"J\",\"A\",\"B\"],\"Actor 04\": [\"D\",\"E\",\"K\",\"G\",\"H\",\"I\",\"J\",\"A\",\"B\",\"C\"],\n",
    "     \"Actor 05\": [\"E\",\"F\",\"G\",\"H\",\"I\",\"J\",\"A\",\"B\",\"C\",\"D\"],\"Actor 06\": [\"F\",\"M\",\"H\",\"I\",\"K\",\"A\",\"B\",\"C\",\"D\",\"E\"],\n",
    "     \"Actor 07\": [\"G\",\"H\",\"I\",\"J\",\"A\",\"B\",\"C\",\"D\",\"E\",\"F\"],\"Actor 08\": [\"H\",\"I\",\"L\",\"A\",\"B\",\"C\",\"D\",\"E\",\"F\",\"G\"],\n",
    "     \"Actor 09\": [\"I\",\"J\",\"A\",\"B\",\"C\",\"D\",\"M\",\"F\",\"G\",\"L\"],\"Actor 10\": [\"J\",\"A\",\"B\",\"C\",\"D\",\"E\",\"F\",\"K\",\"H\",\"I\"]}\n",
    "df = pd.DataFrame(data=d)\n",
    "rows,columns = df.shape\n"
   ]
  },
  {
   "cell_type": "code",
   "execution_count": 47,
   "metadata": {},
   "outputs": [
    {
     "name": "stdout",
     "output_type": "stream",
     "text": [
      "[['A' 'B' 'C' 'D' 'E' 'F' 'G' 'H' 'I' 'J']\n",
      " ['B' 'K' 'D' 'E' 'F' 'M' 'H' 'I' 'J' 'A']\n",
      " ['C' 'D' 'E' 'K' 'G' 'H' 'I' 'L' 'A' 'B']\n",
      " ['M' 'E' 'F' 'G' 'H' 'I' 'J' 'A' 'B' 'C']\n",
      " ['E' 'F' 'M' 'H' 'I' 'K' 'A' 'B' 'C' 'D']\n",
      " ['F' 'G' 'H' 'I' 'J' 'A' 'B' 'C' 'D' 'E']\n",
      " ['G' 'H' 'L' 'J' 'A' 'B' 'C' 'D' 'M' 'F']\n",
      " ['L' 'I' 'J' 'A' 'B' 'C' 'D' 'E' 'F' 'K']\n",
      " ['I' 'J' 'A' 'B' 'C' 'D' 'E' 'F' 'G' 'H']\n",
      " ['J' 'A' 'B' 'C' 'D' 'E' 'F' 'G' 'L' 'I']]\n",
      "[('A', 'B'), ('A', 'J'), ('A', 'L'), ('A', 'K'), ('B', 'C'), ('B', 'K'), ('C', 'D'), ('C', 'M'), ('D', 'E'), ('D', 'K'), ('D', 'M'), ('E', 'F'), ('E', 'K'), ('E', 'M'), ('F', 'G'), ('F', 'M'), ('F', 'K'), ('G', 'H'), ('G', 'K'), ('G', 'L'), ('H', 'I'), ('H', 'M'), ('H', 'L'), ('I', 'J'), ('I', 'L'), ('I', 'K'), ('J', 'L'), ('K', 'L')]\n",
      "{'weight': 10}\n",
      "{'weight': 1}\n",
      "{'weight': 1}\n",
      "{'weight': 1}\n",
      "{'weight': 9}\n",
      "{'weight': 1}\n",
      "{'weight': 8}\n",
      "{'weight': 1}\n",
      "{'weight': 8}\n",
      "{'weight': 1}\n",
      "{'weight': 1}\n",
      "{'weight': 8}\n",
      "{'weight': 1}\n",
      "{'weight': 1}\n",
      "{'weight': 6}\n",
      "{'weight': 1}\n",
      "{'weight': 1}\n",
      "{'weight': 6}\n",
      "{'weight': 1}\n",
      "{'weight': 1}\n",
      "{'weight': 7}\n",
      "{'weight': 1}\n",
      "{'weight': 1}\n",
      "{'weight': 7}\n",
      "{'weight': 1}\n",
      "{'weight': 1}\n",
      "{'weight': 1}\n",
      "{'weight': 1}\n"
     ]
    },
    {
     "name": "stderr",
     "output_type": "stream",
     "text": [
      "C:\\ProgramData\\Anaconda3\\lib\\site-packages\\networkx\\drawing\\nx_pylab.py:126: MatplotlibDeprecationWarning: pyplot.hold is deprecated.\n",
      "    Future behavior will be consistent with the long-time default:\n",
      "    plot commands add elements without first clearing the\n",
      "    Axes and/or Figure.\n",
      "  b = plt.ishold()\n",
      "C:\\ProgramData\\Anaconda3\\lib\\site-packages\\networkx\\drawing\\nx_pylab.py:138: MatplotlibDeprecationWarning: pyplot.hold is deprecated.\n",
      "    Future behavior will be consistent with the long-time default:\n",
      "    plot commands add elements without first clearing the\n",
      "    Axes and/or Figure.\n",
      "  plt.hold(b)\n",
      "C:\\ProgramData\\Anaconda3\\lib\\site-packages\\matplotlib\\__init__.py:917: UserWarning: axes.hold is deprecated. Please remove it from your matplotlibrc and/or style files.\n",
      "  warnings.warn(self.msg_depr_set % key)\n",
      "C:\\ProgramData\\Anaconda3\\lib\\site-packages\\matplotlib\\rcsetup.py:152: UserWarning: axes.hold is deprecated, will be removed in 3.0\n",
      "  warnings.warn(\"axes.hold is deprecated, will be removed in 3.0\")\n"
     ]
    },
    {
     "data": {
      "image/png": "[encoded data removed]",
      "text/plain": [
       "<matplotlib.figure.Figure at 0x213a5ee7d68>"
      ]
     },
     "metadata": {},
     "output_type": "display_data"
    }
   ],
   "source": [
    "import networkx as nx\n",
    "nx_graph = nx.Graph()\n",
    "\n",
    "actors = df.as_matrix(columns=[\"Actor 01\",\"Actor 02\",\"Actor 03\",\"Actor 04\",\"Actor 05\",\"Actor 06\",\"Actor 07\",\"Actor 08\",\"Actor 09\",\"Actor 10\"])\n",
    "\n",
    "print(actors)\n",
    "\n",
    "for i in range(len(actors)):\n",
    "    actors_in_movie = actors[i,:]\n",
    "    for j in range(len(actors_in_movie)):\n",
    "        if j == 9:\n",
    "            if (actors_in_movie[j],actors_in_movie[0]) not in nx_graph.edges():\n",
    "                nx_graph.add_edge(actors_in_movie[j],actors_in_movie[0],weight=1)\n",
    "            else:\n",
    "                nx_graph.add_edge(actors_in_movie[j],actors_in_movie[0],weight=nx_graph.get_edge_data(actors_in_movie[j],actors_in_movie[0])['weight']+1)\n",
    "        else:\n",
    "            if (actors_in_movie[j],actors_in_movie[j+1]) not in nx_graph.edges():\n",
    "                nx_graph.add_edge(actors_in_movie[j],actors_in_movie[j+1],weight=1)\n",
    "            else:\n",
    "                nx_graph.add_edge(actors_in_movie[j],actors_in_movie[j+1],weight=nx_graph.get_edge_data(actors_in_movie[j],actors_in_movie[j+1])['weight']+1)\n",
    "        \n",
    "print(nx_graph.edges())\n",
    "for edge in nx_graph.edges():    \n",
    "    print(nx_graph.get_edge_data(edge[0],edge[1]))\n",
    "\n",
    "from matplotlib import pyplot as plt\n",
    "nx.draw(nx_graph)\n",
    "plt.show()\n",
    "\n"
   ]
  },
  {
   "cell_type": "code",
   "execution_count": null,
   "metadata": {
    "collapsed": true
   },
   "outputs": [],
   "source": []
  },
  {
   "cell_type": "code",
   "execution_count": 36,
   "metadata": {},
   "outputs": [
    {
     "name": "stdout",
     "output_type": "stream",
     "text": [
      "{'weight': 0.5}\n",
      "{'weight': 1.5}\n",
      "[('A', 'B'), ('A', 'C'), ('A', 'D'), ('A', 'E'), ('B', 'C'), ('C', 'D')]\n",
      "[('A', 'B'), ('A', 'C'), ('A', 'D'), ('A', 'E'), ('B', 'C'), ('C', 'D')]\n"
     ]
    },
    {
     "data": {
      "text/plain": [
       "'from matplotlib import pyplot as plt\\nnx.draw(nx_graph)\\nplt.show()'"
      ]
     },
     "execution_count": 36,
     "metadata": {},
     "output_type": "execute_result"
    }
   ],
   "source": [
    "nx_graph1 = nx.Graph()\n",
    "nx_graph1.add_node('A')\n",
    "nx_graph1.add_node('B')\n",
    "nx_graph1.add_edge('A', 'B')\n",
    "nx_graph1.add_edge('A', 'C') # Node 'C' is added to the graph\n",
    "nx_graph1.add_edges_from([('A', 'D'), ('A', 'E'), ('B', 'C')])\n",
    "\n",
    "nx_graph1.add_edge('C', 'D', weight=0.5)\n",
    "\n",
    "\n",
    "print(nx_graph1.get_edge_data('C', 'D'))\n",
    "\n",
    "nx_graph1.add_edge('C', 'D', weight=nx_graph1.get_edge_data('C','D')['weight']+1)\n",
    "print(nx_graph1.get_edge_data('C', 'D'))\n",
    "\n",
    "print(nx_graph1.edges())\n",
    "\n",
    "if ('B','A') not in nx_graph1.edges():\n",
    "    nx_graph1.add_edge('B','A')\n",
    "    \n",
    "print(nx_graph1.edges())\n",
    "\n",
    "\n",
    "\n",
    "#print(nx_graph.nodes())\n",
    "#print(nx_graph.edges())\n",
    "\n",
    "\"\"\"from matplotlib import pyplot as plt\n",
    "nx.draw(nx_graph)\n",
    "plt.show()\"\"\"\n"
   ]
  },
  {
   "cell_type": "code",
   "execution_count": null,
   "metadata": {
    "collapsed": true
   },
   "outputs": [],
   "source": []
  }
 ],
 "metadata": {
  "kernelspec": {
   "display_name": "Python 3",
   "language": "python",
   "name": "python3"
  },
  "language_info": {
   "codemirror_mode": {
    "name": "ipython",
    "version": 3
   },
   "file_extension": ".py",
   "mimetype": "text/x-python",
   "name": "python",
   "nbconvert_exporter": "python",
   "pygments_lexer": "ipython3",
   "version": "3.6.1"
  }
 },
 "nbformat": 4,
 "nbformat_minor": 2
}
