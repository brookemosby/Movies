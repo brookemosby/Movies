{
 "cells": [
  {
   "cell_type": "code",
   "execution_count": 2,
   "metadata": {
    "collapsed": true
   },
   "outputs": [],
   "source": [
    "import numpy as np\n",
    "from catboost import Pool, CatBoostRegressor\n",
    "import pandas as pd\n",
    "from sklearn.model_selection import train_test_split as tts"
   ]
  },
  {
   "cell_type": "code",
   "execution_count": null,
   "metadata": {
    "collapsed": true
   },
   "outputs": [],
   "source": []
  },
  {
   "cell_type": "code",
   "execution_count": 3,
   "metadata": {},
   "outputs": [
    {
     "name": "stdout",
     "output_type": "stream",
     "text": [
      "0:\tlearn: 295.8825996\ttotal: 47ms\tremaining: 47ms\n",
      "1:\tlearn: 289.8411978\ttotal: 47.5ms\tremaining: 0us\n"
     ]
    },
    {
     "data": {
      "text/plain": [
       "289.8411977876975"
      ]
     },
     "execution_count": 3,
     "metadata": {},
     "output_type": "execute_result"
    }
   ],
   "source": [
    "# Regressor example\n",
    "\n",
    "# initialize data\n",
    "train_data = np.random.randint(0, 100, size=(100, 10))\n",
    "train_label = np.random.randint(0, 1000, size=(100))\n",
    "test_data = np.random.randint(0, 100, size=(50, 10))\n",
    "# initialize Pool\n",
    "train_pool = Pool(train_data, train_label, cat_features=[0,2,5])\n",
    "test_pool = Pool(test_data, cat_features=[0,2,5]) \n",
    "\n",
    "# specify the training parameters \n",
    "model = CatBoostRegressor(iterations=2, depth=2, learning_rate=1, loss_function='RMSE')\n",
    "#train the model\n",
    "model.fit(train_pool)\n",
    "# make the prediction using the resulting model\n",
    "preds = model.predict(test_pool)\n",
    "model.score(train_data,train_label)"
   ]
  },
  {
   "cell_type": "code",
   "execution_count": null,
   "metadata": {
    "collapsed": true
   },
   "outputs": [],
   "source": []
  },
  {
   "cell_type": "code",
   "execution_count": 4,
   "metadata": {
    "collapsed": true
   },
   "outputs": [],
   "source": [
    "metrics = ['RMSE','Logloss','MAE','CrossEntropy','Quantile','LogLinQuantile','SMAPE','MultiClass','MultiClassOneVsAll',\n",
    "           'MAPE','Poisson','PairLogit','QueryRMSE','QuerySoftMax','Recall','Precision','F1','TotalF1','Accuracy',\n",
    "           'AUC','R2','MCC','PairAccuracy','QueryAverage','PFound','CtrFactor']\n"
   ]
  },
  {
   "cell_type": "code",
   "execution_count": null,
   "metadata": {
    "collapsed": true
   },
   "outputs": [],
   "source": []
  },
  {
   "cell_type": "code",
   "execution_count": 5,
   "metadata": {},
   "outputs": [
    {
     "name": "stdout",
     "output_type": "stream",
     "text": [
      "0:\tlearn: 13.6167789\ttotal: 470us\tremaining: 470us\n",
      "1:\tlearn: 8.2600948\ttotal: 885us\tremaining: 0us\n",
      "[16.25 16.25]\n"
     ]
    }
   ],
   "source": [
    "# Initialize data\n",
    "cat_features = [0,1,2]\n",
    "train_data = [[\"a\",\"b\",1,4,5,6],[\"a\",\"b\",4,5,6,7],[\"c\",\"d\",30,40,50,60]]\n",
    "test_data = [[\"a\",\"b\",2,4,6,8],[\"a\",\"d\",1,4,50,60]]\n",
    "train_labels = [10,20,30]\n",
    "# Initialize CatBoostRegressor\n",
    "model = CatBoostRegressor(iterations=2, learning_rate=1, depth=2)\n",
    "# Fit model\n",
    "model.fit(train_data, train_labels, cat_features)\n",
    "# Get predictions\n",
    "preds = model.predict(test_data)\n",
    "print(preds)"
   ]
  },
  {
   "cell_type": "code",
   "execution_count": 16,
   "metadata": {
    "collapsed": true
   },
   "outputs": [],
   "source": [
    "data = pd.read_csv(\"../Result_Data/total_engineered.csv\")\n",
    "del data[\"Unnamed: 0\"]\n",
    "data= data.fillna(data.mean())\n",
    "X = data[['Actor_0', 'Actor_1', 'Actor_2', 'Actor_3', 'Actor_4', 'Actor_5', 'Actor_6', 'Actor_7', 'Actor_8', 'Actor_9', \n",
    "           'Budget', 'Directors', 'Release Date', 'Runtime (mins)', 'Title', 'Year', 'Genre: Short', 'Genre:  Comedy', \n",
    "           'Genre: Fantasy', 'Genre: Film-Noir', 'Genre: War', 'Genre: Musical', 'Genre:  Sport', 'Genre: Biography', \n",
    "           'Genre: Action', 'Genre:  Fantasy', 'Genre:  Animation', 'Genre:  Biography', 'Genre: Mystery', \n",
    "           'Genre:  Musical', 'Genre:  Romance', 'Genre: Thriller', 'Genre:  Film-Noir', 'Genre:  History', \n",
    "           'Genre: Western', 'Genre: Drama', 'Genre: Sci-Fi', 'Genre:  Horror', 'Genre: Romance', 'Genre: Adventure', \n",
    "           'Genre:  Family', 'Genre:  Sci-Fi', 'Genre: Animation', 'Genre:  Music', 'Genre: Music', 'Genre: History', \n",
    "           'Genre:  Mystery', 'Genre:  Thriller', 'Genre: Comedy', 'Genre:  Crime', 'Genre: Horror', 'Genre:  Drama', \n",
    "           'Genre:  War', 'Genre:  Western', 'Genre:  Adventure', 'Genre: Family', 'Genre:  Action', 'Genre: Crime', \n",
    "           'Content Rating: PASSED', 'Content Rating: TV-MA', 'Content Rating: X', 'Content Rating: NC-17', \n",
    "           'Content Rating: TV-14', 'Content Rating: M', 'Content Rating: GP', 'Content Rating: TV-PG', \n",
    "           'Content Rating: PG', 'Content Rating: PG-13', 'Content Rating: G', 'Content Rating: NR', \n",
    "           'Content Rating: APPROVED', 'Content Rating: UNRATED', 'Content Rating: M/PG', 'Content Rating: TV-13', \n",
    "           'Content Rating: NOT RATED', 'Content Rating: TV-G', 'Content Rating: R', 'Decade',  'Budget_Adjusted',  \n",
    "           'Length of Title', 'Directors Prev Number Movies', 'Directors Prev Mean Profit', 'Directors Prev Mean IMDb',\n",
    "           'Directors Prev Mean Meta', 'Directors Prev Mean Num Votes', 'Directors Prev Mean Nominations', \n",
    "           'Directors Prev Mean Wins', 'Actor Weights']].select_dtypes(include=['float64','int','bool']).astype('float')\n",
    "y = data[['Gross', 'IMDb Rating', 'Meta Score', 'Num Votes', 'Oscar Nominations', 'Oscar Wins', 'Other Nominations', \n",
    "           'Other Wins','Profit','Gross_Adjusted',  'Profit_Adjusted', 'Profit_Bool', 'Total Nominations', 'Total Wins']].select_dtypes(include=['float64','int','bool']).astype('float')"
   ]
  },
  {
   "cell_type": "code",
   "execution_count": 17,
   "metadata": {},
   "outputs": [],
   "source": [
    "X_train, X_test, y_train, y_test = tts(X, y, test_size=0.3)\n"
   ]
  },
  {
   "cell_type": "code",
   "execution_count": 18,
   "metadata": {},
   "outputs": [
    {
     "data": {
      "text/plain": [
       "{'depth': 3,\n",
       " 'iterations': 3,\n",
       " 'l2_leaf_reg': 64,\n",
       " 'learning_rate': 0.3,\n",
       " 'loss_function': 'RMSE'}"
      ]
     },
     "execution_count": 18,
     "metadata": {},
     "output_type": "execute_result"
    }
   ],
   "source": [
    "# Initialize CatBoostRegressor\n",
    "model = CatBoostRegressor(iterations=3, learning_rate=.3, depth=3,l2_leaf_reg=64)\n",
    "model.get_params()"
   ]
  },
  {
   "cell_type": "code",
   "execution_count": 43,
   "metadata": {},
   "outputs": [
    {
     "name": "stdout",
     "output_type": "stream",
     "text": [
      "0:\tlearn: 185968907.4109430\ttotal: 5.25ms\tremaining: 10.5ms\n",
      "1:\tlearn: 178261335.4008125\ttotal: 9.74ms\tremaining: 4.87ms\n",
      "2:\tlearn: 173396106.0061713\ttotal: 14.5ms\tremaining: 0us\n",
      "0:\tlearn: 4.7880781\ttotal: 3.02ms\tremaining: 6.05ms\n",
      "1:\tlearn: 3.4771458\ttotal: 6.51ms\tremaining: 3.25ms\n",
      "2:\tlearn: 2.5708283\ttotal: 10.2ms\tremaining: 0us\n",
      "0:\tlearn: 42.2430827\ttotal: 3.65ms\tremaining: 7.31ms\n",
      "1:\tlearn: 31.5002188\ttotal: 7.71ms\tremaining: 3.86ms\n",
      "2:\tlearn: 24.4679932\ttotal: 12.9ms\tremaining: 0us\n",
      "0:\tlearn: 116630.7819493\ttotal: 3.48ms\tremaining: 6.97ms\n",
      "1:\tlearn: 108971.8101757\ttotal: 6.29ms\tremaining: 3.15ms\n",
      "2:\tlearn: 104326.4257102\ttotal: 10.1ms\tremaining: 0us\n",
      "0:\tlearn: 0.7905414\ttotal: 4.52ms\tremaining: 9.04ms\n",
      "1:\tlearn: 0.7771405\ttotal: 8.33ms\tremaining: 4.16ms\n",
      "2:\tlearn: 0.7671654\ttotal: 12.4ms\tremaining: 0us\n",
      "0:\tlearn: 0.6639916\ttotal: 2.95ms\tremaining: 5.89ms\n",
      "1:\tlearn: 0.6504460\ttotal: 5.72ms\tremaining: 2.86ms\n",
      "2:\tlearn: 0.6402168\ttotal: 9.49ms\tremaining: 0us\n",
      "0:\tlearn: 20.4752243\ttotal: 4.67ms\tremaining: 9.34ms\n",
      "1:\tlearn: 19.5305613\ttotal: 9.37ms\tremaining: 4.69ms\n",
      "2:\tlearn: 19.0317432\ttotal: 13.5ms\tremaining: 0us\n",
      "0:\tlearn: 12.9910628\ttotal: 2.46ms\tremaining: 4.92ms\n",
      "1:\tlearn: 12.6048346\ttotal: 5.28ms\tremaining: 2.64ms\n",
      "2:\tlearn: 12.3926099\ttotal: 7.7ms\tremaining: 0us\n",
      "0:\tlearn: 145112959.0521652\ttotal: 5.26ms\tremaining: 10.5ms\n",
      "1:\tlearn: 140308302.2097168\ttotal: 9.46ms\tremaining: 4.73ms\n",
      "2:\tlearn: 137430432.5310196\ttotal: 13.8ms\tremaining: 0us\n",
      "0:\tlearn: 231682944.6720164\ttotal: 2.54ms\tremaining: 5.08ms\n",
      "1:\tlearn: 221510699.0495082\ttotal: 5.45ms\tremaining: 2.72ms\n",
      "2:\tlearn: 214745557.0113797\ttotal: 7.85ms\tremaining: 0us\n",
      "0:\tlearn: 188767290.2219975\ttotal: 4.33ms\tremaining: 8.66ms\n",
      "1:\tlearn: 181198413.5479367\ttotal: 8.75ms\tremaining: 4.37ms\n",
      "2:\tlearn: 176641241.5265239\ttotal: 13.1ms\tremaining: 0us\n",
      "0:\tlearn: 0.5150413\ttotal: 3.92ms\tremaining: 7.84ms\n",
      "1:\tlearn: 0.4630916\ttotal: 7.57ms\tremaining: 3.79ms\n",
      "2:\tlearn: 0.4382529\ttotal: 11.4ms\tremaining: 0us\n",
      "0:\tlearn: 20.5460005\ttotal: 3.71ms\tremaining: 7.42ms\n",
      "1:\tlearn: 19.5355603\ttotal: 7.79ms\tremaining: 3.89ms\n",
      "2:\tlearn: 18.9603609\ttotal: 11.8ms\tremaining: 0us\n",
      "0:\tlearn: 13.3357341\ttotal: 2.58ms\tremaining: 5.15ms\n",
      "1:\tlearn: 12.9152017\ttotal: 5.34ms\tremaining: 2.67ms\n",
      "2:\tlearn: 12.6354777\ttotal: 8.06ms\tremaining: 0us\n"
     ]
    }
   ],
   "source": [
    "es_y = np.zeros_like(y_test)\n",
    "\n",
    "for i in range(14):\n",
    "    # Fit model\n",
    "    model.fit(X_train, y_train.iloc[0:,i])\n",
    "    es_y[0:,i] = model.predict(X_test)"
   ]
  },
  {
   "cell_type": "code",
   "execution_count": 44,
   "metadata": {},
   "outputs": [
    {
     "name": "stdout",
     "output_type": "stream",
     "text": [
      "\n",
      "Movie Gross Average Percent Error:\n",
      "31107.332994725595 %\n",
      "\n",
      "IMDb Rating Average Percent Error:\n",
      "34.88657278911287 %\n",
      "\n",
      "Meta Score Average Percent Error:\n",
      "38.37543450269644 %\n",
      "\n",
      "Number of Votes Average Percent Error:\n",
      "121.98886699819185 %\n",
      "\n",
      "Oscar Nominations Average Error:\n",
      "0.3228166840919768\n",
      "\n",
      "Oscar Wins Average Error:\n",
      "0.19940121149232476\n",
      "\n",
      "Other Nominations Average Error:\n",
      "8.086313914710386\n",
      "\n",
      "Other Wins Average Error:\n",
      "5.033349650840782\n",
      "\n",
      "Profit Average Percent Error:\n",
      "984.6614145595447 %\n",
      "\n",
      "Gross Adjusted Average Percent Error:\n",
      "39920.26224930748 %\n",
      "\n",
      "Profit Adjusted Average Percent Error:\n",
      "861.417769972853 %\n",
      "\n",
      "Profit Bool Average Error:\n",
      "0.34394981354338233\n",
      "\n",
      "Total Nominations Average Error:\n",
      "8.078782557248202\n",
      "\n",
      "Total Wins Average Error:\n",
      "5.168990293294737\n"
     ]
    }
   ],
   "source": [
    "# Get predictions\n",
    "tt_y = y_test\n",
    "\n",
    "print(\"\\nMovie Gross Average Percent Error:\")\n",
    "print((abs(es_y[0:,0]-np.array(tt_y.astype(float))[0:,0])/abs(np.array(tt_y.astype(float))[0:,0])).mean()*100,\"%\")\n",
    "print(\"\\nIMDb Rating Average Percent Error:\")\n",
    "print((abs(es_y[0:,1]-np.array(tt_y.astype(float))[0:,1])/abs(np.array(tt_y.astype(float))[0:,1])).mean()*100,\"%\")\n",
    "print(\"\\nMeta Score Average Percent Error:\")\n",
    "print((abs(es_y[0:,2]-np.array(tt_y.astype(float))[0:,2])/abs(np.array(tt_y.astype(float))[0:,2])).mean()*100,\"%\")\n",
    "print(\"\\nNumber of Votes Average Percent Error:\")\n",
    "print((abs(es_y[0:,3]-np.array(tt_y.astype(float))[0:,3])/abs(np.array(tt_y.astype(float))[0:,3])).mean()*100,\"%\")\n",
    "print(\"\\nOscar Nominations Average Error:\")\n",
    "print(abs(es_y[0:,4]-np.array(tt_y.astype(float))[0:,4]).mean())\n",
    "print(\"\\nOscar Wins Average Error:\")\n",
    "print(abs(es_y[0:,5]-np.array(tt_y.astype(float))[0:,5]).mean())\n",
    "print(\"\\nOther Nominations Average Error:\")\n",
    "print(abs(es_y[0:,6]-np.array(tt_y.astype(float))[0:,6]).mean())\n",
    "print(\"\\nOther Wins Average Error:\")\n",
    "print(abs(es_y[0:,7]-np.array(tt_y.astype(float))[0:,7]).mean())\n",
    "print(\"\\nProfit Average Percent Error:\")\n",
    "print((abs(es_y[0:,8]-np.array(tt_y.astype(float))[0:,8])/abs(np.array(tt_y.astype(float))[0:,8])).mean()*100,\"%\")\n",
    "print(\"\\nGross Adjusted Average Percent Error:\")\n",
    "print((abs(es_y[0:,9]-np.array(tt_y.astype(float))[0:,9])/abs(np.array(tt_y.astype(float))[0:,9])).mean()*100,\"%\")\n",
    "print(\"\\nProfit Adjusted Average Percent Error:\")\n",
    "print((abs(es_y[0:,10]-np.array(tt_y.astype(float))[0:,10])/abs(np.array(tt_y.astype(float))[0:,10])).mean()*100,\"%\")\n",
    "print(\"\\nProfit Bool Average Error:\")\n",
    "print(abs(es_y[0:,11]-np.array(tt_y.astype(float))[0:,11]).mean())\n",
    "print(\"\\nTotal Nominations Average Error:\")\n",
    "print(abs(es_y[0:,12]-np.array(tt_y.astype(float))[0:,12]).mean())\n",
    "print(\"\\nTotal Wins Average Error:\")\n",
    "print(abs(es_y[0:,13]-np.array(tt_y.astype(float))[0:,13]).mean())"
   ]
  },
  {
   "cell_type": "code",
   "execution_count": null,
   "metadata": {
    "collapsed": true
   },
   "outputs": [],
   "source": []
  },
  {
   "cell_type": "code",
   "execution_count": null,
   "metadata": {
    "collapsed": true
   },
   "outputs": [],
   "source": []
  },
  {
   "cell_type": "code",
   "execution_count": null,
   "metadata": {
    "collapsed": true
   },
   "outputs": [],
   "source": []
  }
 ],
 "metadata": {
  "kernelspec": {
   "display_name": "Python 3",
   "language": "python",
   "name": "python3"
  },
  "language_info": {
   "codemirror_mode": {
    "name": "ipython",
    "version": 3
   },
   "file_extension": ".py",
   "mimetype": "text/x-python",
   "name": "python",
   "nbconvert_exporter": "python",
   "pygments_lexer": "ipython3",
   "version": "3.6.4"
  }
 },
 "nbformat": 4,
 "nbformat_minor": 2
}
