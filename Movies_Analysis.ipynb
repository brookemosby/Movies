{
 "cells": [
  {
   "cell_type": "markdown",
   "metadata": {},
   "source": [
    "# Movie Analysis"
   ]
  },
  {
   "cell_type": "code",
   "execution_count": 1,
   "metadata": {
    "collapsed": true
   },
   "outputs": [],
   "source": [
    "import pandas as pd\n",
    "import numpy as np\n",
    "import networkx as nx"
   ]
  },
  {
   "cell_type": "markdown",
   "metadata": {},
   "source": [
    "## Abstract\n",
    "Cinema has become one of the highest profiting industries over the past century. The total box office revenue in North America alone amounted to $11.38 billion in 2016. With the possibility of great success, there is also a large risk of financial failure. This data exploration is motivated by answering the question what makes a movie successful. There is plenty of quantative data available for movies, such as the movies' budget, the release date, ratings etc., but in this analysis an attempt will be made to quantify movie information that is less measurable and then predict movie success."
   ]
  },
  {
   "cell_type": "markdown",
   "metadata": {},
   "source": [
    "## Introduction\n",
    "Research has been done to determine what aspects of a movie make it more successful; however, much of this research is contradictory. The research paper \"Early Predictions of Movie Success: the Who, What, and When of Profitability\" states movies with a motion picture content rating 'R' will likely have lower profits, whereas the research paper \"What Makes A Great Movie?\" states a motion picture content rating 'R' will have higher a box-office. Both papers analyzed thousands of movies, but came to opposite conclusions. Some variables used to predict movie success in these studies, included budget, motion picture content rating, and actor popularity.\n",
    "\n",
    "Based on these previous models, the dataset used will include movie title length, run-time, motion picture content rating, director, genre, release date, actors, an actor popularity score, average salary of the actors in the movie, budget, and opening weekend box-office revenue for predictor variables. The actor popularity score will be calculated from a network of actors connected through the movies they appeared in together and from the average actor income. Movie success will be determined by the awards it is nominated for, the awards it won, the MetaCritic score, the IMDb rating, and the profit of the movie."
   ]
  },
  {
   "cell_type": "markdown",
   "metadata": {},
   "source": [
    "## Data Scraped, Downloaded, Cleaned & Engineered\n",
    "### Beginning Dataset\n",
    "A beginning dataset is downloaded from IMDb with 10,000 movies, each entry containing the movie title, URL on IMDb rating, run-time, Year, Genres, Num Votes, Release Date, Directors. From this dataset, additional information on the movie budget, gross income, opening weekend box revenue, actors, Oscar nominations, Oscars won, other award nominations, other awards won, MetaCritic score, and content rating is scraped and cleaned. \n",
    "The data points will be collected from IMDb, which is a reputable source for information, according to their website, \n",
    "\n",
    ">\"we [IMDb] actively gather information from and verify items with studios and \n",
    "filmmakers\".\n",
    "\n",
    "### Cleaning Data\n",
    "After gathering each data point, the data set is complete, although the information is not clean or uniform. The first step to clean the data will be to remove all commas across each column in the DataFrame. Removing commas will make it easier to convert monetary amounts to ints. Next each date in the Release column will be changed to a pandas date object, which will simplify any calculations that rely on the release date of the movie. Each monetary amount will be converted into an int and converted into USD. Each unique genre will be made into a column, with a true or false boolean for each movie entry.\n",
    "### Feature Engineering\n",
    "To resolve the disagreement in monetary amounts, due to inflation, a dataset containing the CPI for each year from 1914 will used to adjust the monetary amounts. The CPI, Consumer Price Index, describes the amount of purchasing power the average consumer has. The length of the movie title will be added, and a NetworkX graph of all actors will be made. This network will connect nodes of actors to each other, if they appear in a movie together. The edges of the network will be weighted by the amount of movies the actors appear in together. An actor popularity score will be calculated from the actors appearing in the movie, based on how many other movies they appear in with other actors and the actor's income.\n",
    "\n",
    "The total variables in the new dataset are movie title, title length, motion picture content rating, run-time, IMDb rating, genres, MetaCritic score, Oscar nominations, Oscar wins, other award nominations, other award wins, director, release date, budget, opening weekend, gross, profit, budget adjusted for inflation, opening weekend adjusted for inflation, gross adjusted for inflation, profit adjusted for inflation, the top ten actors in the movie, and actor popularity score. A separate network will hold the actor nodes and their connections."
   ]
  },
  {
   "cell_type": "code",
   "execution_count": 3,
   "metadata": {},
   "outputs": [
    {
     "name": "stdout",
     "output_type": "stream",
     "text": [
      "Index(['Actor_0', 'Actor_1', 'Actor_2', 'Actor_3', 'Actor_4', 'Actor_5',\n",
      "       'Actor_6', 'Actor_7', 'Actor_8', 'Actor_9', 'Budget', 'Directors',\n",
      "       'Gross', 'IMDb Rating', 'Meta Score', 'Num Votes', 'Opening Weekend',\n",
      "       'Oscar Nominations', 'Oscar Wins', 'Other Nominations', 'Other Wins',\n",
      "       'Release Date', 'Runtime (mins)', 'Title', 'Year', 'Genre: Comedy',\n",
      "       'Genre:  Music', 'Genre: Fantasy', 'Genre:  Western', 'Genre: Action',\n",
      "       'Genre: Drama', 'Genre:  Fantasy', 'Genre: Musical', 'Genre:  Comedy',\n",
      "       'Genre: Mystery', 'Genre:  Horror', 'Genre:  Film-Noir',\n",
      "       'Genre:  Adventure', 'Genre: Horror', 'Genre:  Crime',\n",
      "       'Genre:  Musical', 'Genre: Romance', 'Genre:  Sport', 'Genre: Western',\n",
      "       'Genre:  Mystery', 'Genre: Biography', 'Genre:  Family',\n",
      "       'Genre:  Drama', 'Genre:  Thriller', 'Genre: Animation',\n",
      "       'Genre:  Action', 'Genre:  History', 'Genre:  Romance',\n",
      "       'Genre:  Sci-Fi', 'Genre: Film-Noir', 'Genre: Crime',\n",
      "       'Genre:  Biography', 'Genre:  War', 'Genre: Sci-Fi', 'Genre: Adventure',\n",
      "       'Genre: Family', 'Content Rating: PG-13', 'Content Rating: APPROVED',\n",
      "       'Content Rating: PASSED', 'Content Rating: R', 'Content Rating: NR',\n",
      "       'Content Rating: G', 'Content Rating: UNRATED', 'Content Rating: GP',\n",
      "       'Content Rating: NOT RATED', 'Content Rating: NC-17',\n",
      "       'Content Rating: PG', 'Decade', 'Profit', 'Budget_Adjusted',\n",
      "       'Gross_Adjusted', 'Open_Adjusted', 'Profit_Adjusted'],\n",
      "      dtype='object')\n"
     ]
    },
    {
     "data": {
      "text/html": [
       "<div>\n",
       "<style>\n",
       "    .dataframe thead tr:only-child th {\n",
       "        text-align: right;\n",
       "    }\n",
       "\n",
       "    .dataframe thead th {\n",
       "        text-align: left;\n",
       "    }\n",
       "\n",
       "    .dataframe tbody tr th {\n",
       "        vertical-align: top;\n",
       "    }\n",
       "</style>\n",
       "<table border=\"1\" class=\"dataframe\">\n",
       "  <thead>\n",
       "    <tr style=\"text-align: right;\">\n",
       "      <th></th>\n",
       "      <th>Actor_0</th>\n",
       "      <th>Actor_1</th>\n",
       "      <th>Actor_2</th>\n",
       "      <th>Actor_3</th>\n",
       "      <th>Actor_4</th>\n",
       "      <th>Actor_5</th>\n",
       "      <th>Actor_6</th>\n",
       "      <th>Actor_7</th>\n",
       "      <th>Actor_8</th>\n",
       "      <th>Actor_9</th>\n",
       "      <th>...</th>\n",
       "      <th>Release Date</th>\n",
       "      <th>Runtime (mins)</th>\n",
       "      <th>Title</th>\n",
       "      <th>Year</th>\n",
       "      <th>Decade</th>\n",
       "      <th>Profit</th>\n",
       "      <th>Budget_Adjusted</th>\n",
       "      <th>Gross_Adjusted</th>\n",
       "      <th>Open_Adjusted</th>\n",
       "      <th>Profit_Adjusted</th>\n",
       "    </tr>\n",
       "  </thead>\n",
       "  <tbody>\n",
       "    <tr>\n",
       "      <th>1335</th>\n",
       "      <td>Ron Howard</td>\n",
       "      <td>Peter Morgan</td>\n",
       "      <td>Peter Morgan</td>\n",
       "      <td>Frank Langella</td>\n",
       "      <td>Michael Sheen</td>\n",
       "      <td>Kevin Bacon</td>\n",
       "      <td>Frank Langella</td>\n",
       "      <td>Michael Sheen</td>\n",
       "      <td>Sam Rockwell</td>\n",
       "      <td>Kevin Bacon</td>\n",
       "      <td>...</td>\n",
       "      <td>2008-10-15</td>\n",
       "      <td>122.0</td>\n",
       "      <td>Frost/Nixon</td>\n",
       "      <td>2008-01-01</td>\n",
       "      <td>2000</td>\n",
       "      <td>-6406844.0</td>\n",
       "      <td>2.864293e+07</td>\n",
       "      <td>2.130250e+07</td>\n",
       "      <td>NaN</td>\n",
       "      <td>-7.340431e+06</td>\n",
       "    </tr>\n",
       "    <tr>\n",
       "      <th>860</th>\n",
       "      <td>Robert Luketic</td>\n",
       "      <td>Amanda Brown</td>\n",
       "      <td>Karen McCullah</td>\n",
       "      <td>Reese Witherspoon</td>\n",
       "      <td>Luke Wilson</td>\n",
       "      <td>Selma Blair</td>\n",
       "      <td>Reese Witherspoon</td>\n",
       "      <td>Luke Wilson</td>\n",
       "      <td>Selma Blair</td>\n",
       "      <td>Matthew Davis</td>\n",
       "      <td>...</td>\n",
       "      <td>2001-06-26</td>\n",
       "      <td>96.0</td>\n",
       "      <td>Legally Blonde</td>\n",
       "      <td>2001-01-01</td>\n",
       "      <td>2000</td>\n",
       "      <td>123774679.0</td>\n",
       "      <td>2.507554e+07</td>\n",
       "      <td>1.975042e+08</td>\n",
       "      <td>NaN</td>\n",
       "      <td>1.724287e+08</td>\n",
       "    </tr>\n",
       "  </tbody>\n",
       "</table>\n",
       "<p>2 rows × 31 columns</p>\n",
       "</div>"
      ],
      "text/plain": [
       "             Actor_0       Actor_1         Actor_2            Actor_3  \\\n",
       "1335      Ron Howard  Peter Morgan    Peter Morgan     Frank Langella   \n",
       "860   Robert Luketic  Amanda Brown  Karen McCullah  Reese Witherspoon   \n",
       "\n",
       "            Actor_4      Actor_5            Actor_6        Actor_7  \\\n",
       "1335  Michael Sheen  Kevin Bacon     Frank Langella  Michael Sheen   \n",
       "860     Luke Wilson  Selma Blair  Reese Witherspoon    Luke Wilson   \n",
       "\n",
       "           Actor_8        Actor_9       ...         Release Date  \\\n",
       "1335  Sam Rockwell    Kevin Bacon       ...           2008-10-15   \n",
       "860    Selma Blair  Matthew Davis       ...           2001-06-26   \n",
       "\n",
       "     Runtime (mins)           Title        Year  Decade       Profit  \\\n",
       "1335          122.0     Frost/Nixon  2008-01-01    2000   -6406844.0   \n",
       "860            96.0  Legally Blonde  2001-01-01    2000  123774679.0   \n",
       "\n",
       "      Budget_Adjusted  Gross_Adjusted  Open_Adjusted  Profit_Adjusted  \n",
       "1335     2.864293e+07    2.130250e+07            NaN    -7.340431e+06  \n",
       "860      2.507554e+07    1.975042e+08            NaN     1.724287e+08  \n",
       "\n",
       "[2 rows x 31 columns]"
      ]
     },
     "execution_count": 3,
     "metadata": {},
     "output_type": "execute_result"
    }
   ],
   "source": [
    "# Ideally in this cell we will have the cleaned/engineered dataframe to display... but we will see....\n",
    "df = pd.read_csv(\"Result_Data/first_2000_engineered.csv\",encoding = \"ISO-8859-1\")\n",
    "del df[\"Unnamed: 0\"]\n",
    "print(df.columns)\n",
    "df[[\"Actor_0\",\"Actor_1\",\"Actor_2\",\"Actor_3\",\"Actor_4\",\"Actor_5\",\"Actor_6\",\"Actor_7\",\"Actor_8\",\"Actor_9\", 'Budget', 'Directors',\n",
    "       'Gross', 'IMDb Rating', 'Meta Score', 'Num Votes', 'Opening Weekend',\n",
    "       'Oscar Nominations', 'Oscar Wins', 'Other Nominations', 'Other Wins',\n",
    "       'Release Date', 'Runtime (mins)', 'Title', 'Year', 'Decade', 'Profit', 'Budget_Adjusted',\n",
    "       'Gross_Adjusted', 'Open_Adjusted', 'Profit_Adjusted']].sample(2)"
   ]
  },
  {
   "cell_type": "code",
   "execution_count": 4,
   "metadata": {
    "collapsed": true
   },
   "outputs": [],
   "source": [
    "# Code for actor tree would go here, maybe a diagram too\n",
    "# Check out plotly for networkx\n",
    "rows,columns = df.shape\n",
    "\n",
    "nx_graph = nx.Graph()\n",
    "\n",
    "actors = df.as_matrix(columns=[\"Actor_0\",\"Actor_1\",\"Actor_2\",\"Actor_3\",\"Actor_4\",\"Actor_5\",\"Actor_6\",\"Actor_7\",\"Actor_8\",\"Actor_9\"])\n",
    "\n",
    "for i in range(len(actors)):\n",
    "    actors_in_movie = actors[i,:]\n",
    "    for j in range(len(actors_in_movie)):\n",
    "        if j == 9:\n",
    "            if (actors_in_movie[j],actors_in_movie[0]) not in nx_graph.edges():\n",
    "                nx_graph.add_edge(actors_in_movie[j],actors_in_movie[0],weight=1)\n",
    "            else:\n",
    "                nx_graph.add_edge(actors_in_movie[j],actors_in_movie[0],weight=nx_graph.get_edge_data(actors_in_movie[j],actors_in_movie[0])['weight']+1)\n",
    "        else:\n",
    "            if (actors_in_movie[j],actors_in_movie[j+1]) not in nx_graph.edges():\n",
    "                nx_graph.add_edge(actors_in_movie[j],actors_in_movie[j+1],weight=1)\n",
    "            else:\n",
    "                nx_graph.add_edge(actors_in_movie[j],actors_in_movie[j+1],weight=nx_graph.get_edge_data(actors_in_movie[j],actors_in_movie[j+1])['weight']+1)\n"
   ]
  },
  {
   "cell_type": "code",
   "execution_count": 5,
   "metadata": {},
   "outputs": [
    {
     "data": {
      "text/plain": [
       "{1, 2, 3, 4, 5, 6, 7, 8, 9, 10, 14}"
      ]
     },
     "execution_count": 5,
     "metadata": {},
     "output_type": "execute_result"
    }
   ],
   "source": [
    "# networkx.Graph.degree   weighted number of edges  https://networkx.github.io/documentation/stable/reference/classes/generated/networkx.Graph.degree.html\n",
    "\n",
    "weights = []\n",
    "for edge in nx_graph.edges():    \n",
    "    weights.append(nx_graph.get_edge_data(edge[0],edge[1])['weight'])\n",
    "    \n",
    "set(sorted(weights)[::-1])"
   ]
  },
  {
   "cell_type": "code",
   "execution_count": 37,
   "metadata": {},
   "outputs": [
    {
     "name": "stdout",
     "output_type": "stream",
     "text": [
      "6772\n"
     ]
    }
   ],
   "source": [
    "nx_graph.remove_node(np.nan)\n",
    "print(nx_graph.number_of_nodes())"
   ]
  },
  {
   "cell_type": "code",
   "execution_count": 11,
   "metadata": {},
   "outputs": [
    {
     "name": "stdout",
     "output_type": "stream",
     "text": [
      "50 Cent\n",
      "Audrey Hepburn\n",
      "Charles Martin Smith\n",
      "David Kelly\n",
      "F. Murray Abraham\n",
      "Horton Foote\n",
      "Jeremy Northam\n",
      "Jukka Hiltunen\n",
      "Linda Larkin\n",
      "Michael Dougherty\n",
      "Paul Feig\n",
      "Robert Schwentke\n",
      "Stephen Boyd\n",
      "Victor Gojcaj\n"
     ]
    }
   ],
   "source": [
    "actors_in_graph = list(nx_graph.nodes())\n",
    "actors_in_graph = [str(i) for i in actors_in_graph]\n",
    "p = sorted(actors_in_graph)\n",
    "for i,ugh in enumerate(p):\n",
    "    if i%500 == 0:\n",
    "        print(ugh)"
   ]
  },
  {
   "cell_type": "code",
   "execution_count": 12,
   "metadata": {},
   "outputs": [
    {
     "data": {
      "text/plain": [
       "18281.0"
      ]
     },
     "execution_count": 12,
     "metadata": {},
     "output_type": "execute_result"
    }
   ],
   "source": [
    "nx_graph.size(weight='weight')"
   ]
  },
  {
   "cell_type": "code",
   "execution_count": null,
   "metadata": {
    "collapsed": true
   },
   "outputs": [],
   "source": []
  },
  {
   "cell_type": "code",
   "execution_count": null,
   "metadata": {
    "collapsed": true
   },
   "outputs": [],
   "source": [
    "# Do some feature engineering with new actor dataset\n",
    "# Add in column for popularity\n",
    "# Need to make actor DataFrame?"
   ]
  },
  {
   "cell_type": "code",
   "execution_count": null,
   "metadata": {
    "collapsed": true
   },
   "outputs": [],
   "source": [
    "# Talk about machine learning methods, why there are good and suitable for our data"
   ]
  },
  {
   "cell_type": "code",
   "execution_count": 1,
   "metadata": {
    "collapsed": true
   },
   "outputs": [],
   "source": [
    "# And now do some machine learning...."
   ]
  },
  {
   "cell_type": "code",
   "execution_count": 2,
   "metadata": {
    "collapsed": true
   },
   "outputs": [],
   "source": [
    "# Analyze ML models"
   ]
  },
  {
   "cell_type": "code",
   "execution_count": null,
   "metadata": {
    "collapsed": true
   },
   "outputs": [],
   "source": [
    "# Case study to see how well we predict on a specific movie"
   ]
  },
  {
   "cell_type": "code",
   "execution_count": null,
   "metadata": {
    "collapsed": true
   },
   "outputs": [],
   "source": [
    "# Insert some amazing conclusion here"
   ]
  }
 ],
 "metadata": {
  "kernelspec": {
   "display_name": "Python 3",
   "language": "python",
   "name": "python3"
  },
  "language_info": {
   "codemirror_mode": {
    "name": "ipython",
    "version": 3
   },
   "file_extension": ".py",
   "mimetype": "text/x-python",
   "name": "python",
   "nbconvert_exporter": "python",
   "pygments_lexer": "ipython3",
   "version": "3.6.1"
  }
 },
 "nbformat": 4,
 "nbformat_minor": 2
}
