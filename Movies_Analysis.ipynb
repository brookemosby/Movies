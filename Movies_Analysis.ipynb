{
 "cells": [
  {
   "cell_type": "markdown",
   "metadata": {},
   "source": [
    "# Movie Analysis"
   ]
  },
  {
   "cell_type": "code",
   "execution_count": 2,
   "metadata": {
    "collapsed": true
   },
   "outputs": [],
   "source": [
    "import pandas as pd\n",
    "import numpy as np\n",
    "import networkx as nx"
   ]
  },
  {
   "cell_type": "markdown",
   "metadata": {},
   "source": [
    "## Abstract\n",
    "Cinema has become one of the highest profiting industries over the past century. The total box office revenue in North America alone amounted to $11.38 billion in 2016. With the possibility of great success, there is also a large risk of financial failure. This data exploration is motivated by answering the question what makes a movie successful. There is plenty of quantative data available for movies, such as the movies' budget, the release date, ratings etc., but in this analysis an attempt will be made to quantify movie information that is less measurable and then predict movie success."
   ]
  },
  {
   "cell_type": "markdown",
   "metadata": {},
   "source": [
    "## Introduction\n",
    "Research has been done to determine what aspects of a movie make it more successful; however, much of this research is contradictory. The research paper \"Early Predictions of Movie Success: the Who, What, and When of Profitability\" states movies with a motion picture content rating 'R' will likely have lower profits, whereas the research paper \"What Makes A Great Movie?\" states a motion picture content rating 'R' will have higher a box-office. Both papers analyzed thousands of movies, but came to opposite conclusions. Some variables used to predict movie success in these studies, included budget, motion picture content rating, and actor popularity.\n",
    "\n",
    "Based on these previous models, the dataset used will include movie title length, run-time, motion picture content rating, director, genre, release date, actors, an actor popularity score, average salary of the actors in the movie, budget, and opening weekend box-office revenue for predictor variables. The actor popularity score will be calculated from a network of actors connected through the movies they appeared in together and from the average actor income. Movie success will be determined by the awards it is nominated for, the awards it won, the MetaCritic score, the IMDb rating, and the profit of the movie."
   ]
  },
  {
   "cell_type": "markdown",
   "metadata": {},
   "source": [
    "## Data Scraped, Downloaded, Cleaned & Engineered\n",
    "### Beginning Dataset\n",
    "A beginning dataset is downloaded from IMDb with 10,000 movies, each entry containing the movie title, URL on IMDb rating, run-time, Year, Genres, Num Votes, Release Date, Directors. From this dataset, additional information on the movie budget, gross income, opening weekend box revenue, actors, Oscar nominations, Oscars won, other award nominations, other awards won, MetaCritic score, and content rating is scraped and cleaned. \n",
    "The data points will be collected from IMDb, which is a reputable source for information, according to their website, \n",
    "\n",
    ">\"we [IMDb] actively gather information from and verify items with studios and \n",
    "filmmakers\".\n",
    "\n",
    "### Cleaning Data\n",
    "After gathering each data point, the data set is complete, although the information is not clean or uniform. The first step to clean the data will be to remove all commas across each column in the DataFrame. Removing commas will make it easier to convert monetary amounts to ints. Next each date in the Release column will be changed to a pandas date object, which will simplify any calculations that rely on the release date of the movie. Each monetary amount will be converted into an int and converted into USD. Each unique genre will be made into a column, with a true or false boolean for each movie entry.\n",
    "### Feature Engineering\n",
    "To resolve the disagreement in monetary amounts, due to inflation, a dataset containing the CPI for each year from 1914 will used to adjust the monetary amounts. The CPI, Consumer Price Index, describes the amount of purchasing power the average consumer has. The length of the movie title will be added, and a NetworkX graph of all actors will be made. This network will connect nodes of actors to each other, if they appear in a movie together. The edges of the network will be weighted by the amount of movies the actors appear in together. An actor popularity score will be calculated from the actors appearing in the movie, based on how many other movies they appear in with other actors and the actor's income.\n",
    "\n",
    "The total variables in the new dataset are movie title, title length, motion picture content rating, run-time, IMDb rating, genres, MetaCritic score, Oscar nominations, Oscar wins, other award nominations, other award wins, director, release date, budget, opening weekend, gross, profit, budget adjusted for inflation, opening weekend adjusted for inflation, gross adjusted for inflation, profit adjusted for inflation, the top ten actors in the movie, and actor popularity score. A separate network will hold the actor nodes and their connections."
   ]
  },
  {
   "cell_type": "code",
   "execution_count": 95,
   "metadata": {},
   "outputs": [
    {
     "name": "stdout",
     "output_type": "stream",
     "text": [
      "['Actor_0', 'Actor_1', 'Actor_2', 'Actor_3', 'Actor_4', 'Actor_5', 'Actor_6', 'Actor_7', 'Actor_8', 'Actor_9', 'Budget', 'Directors', 'Gross', 'IMDb Rating', 'Meta Score', 'Num Votes', 'Opening Weekend', 'Oscar Nominations', 'Oscar Wins', 'Other Nominations', 'Other Wins', 'Release Date', 'Runtime (mins)', 'Title', 'Year', 'Genre: Short', 'Genre:  Comedy', 'Genre: Fantasy', 'Genre: Film-Noir', 'Genre: War', 'Genre: Musical', 'Genre:  Sport', 'Genre: Biography', 'Genre: Action', 'Genre:  Fantasy', 'Genre:  Animation', 'Genre:  Biography', 'Genre: Mystery', 'Genre:  Musical', 'Genre:  Romance', 'Genre: Thriller', 'Genre:  Film-Noir', 'Genre:  History', 'Genre: Western', 'Genre: Drama', 'Genre: Sci-Fi', 'Genre:  Horror', 'Genre: Romance', 'Genre: Adventure', 'Genre:  Family', 'Genre:  Sci-Fi', 'Genre: Animation', 'Genre:  Music', 'Genre: Music', 'Genre: History', 'Genre:  Mystery', 'Genre:  Thriller', 'Genre: Comedy', 'Genre:  Crime', 'Genre: Horror', 'Genre:  Drama', 'Genre:  War', 'Genre:  Western', 'Genre:  Adventure', 'Genre: Family', 'Genre:  Action', 'Genre: Crime', 'Content Rating: PASSED', 'Content Rating: TV-MA', 'Content Rating: X', 'Content Rating: NC-17', 'Content Rating: TV-14', 'Content Rating: M', 'Content Rating: GP', 'Content Rating: TV-PG', 'Content Rating: PG', 'Content Rating: PG-13', 'Content Rating: G', 'Content Rating: NR', 'Content Rating: APPROVED', 'Content Rating: UNRATED', 'Content Rating: M/PG', 'Content Rating: TV-13', 'Content Rating: NOT RATED', 'Content Rating: TV-G', 'Content Rating: R', 'Decade', 'Profit', 'Budget_Adjusted', 'Gross_Adjusted', 'Open_Adjusted', 'Profit_Adjusted', 'Profit_Bool', 'Total Nominations', 'Total Wins', 'Length of Title', 'Directors Prev Number Movies', 'Directors Prev Total Profit', 'Directors Prev Mean Profit', 'Directors Prev Mean IMDb', 'Directors Prev Mean Meta', 'Directors Prev Mean Num Votes', 'Directors Prev Mean Nominations', 'Directors Prev Mean Wins', 'Actor Weights']\n"
     ]
    }
   ],
   "source": [
    "df = pd.read_csv(\"Result_Data/total_engineered.csv\",encoding = \"ISO-8859-1\")\n",
    "del df[\"Unnamed: 0\"]\n",
    "df = df.fillna(df.mean())\n",
    "print(list(df.columns))"
   ]
  },
  {
   "cell_type": "code",
   "execution_count": 96,
   "metadata": {
    "collapsed": true
   },
   "outputs": [],
   "source": [
    "df_x = df[['Actor_0', 'Actor_1', 'Actor_2', 'Actor_3', 'Actor_4', 'Actor_5', 'Actor_6', 'Actor_7', 'Actor_8', 'Actor_9', \n",
    "           'Budget', 'Directors', 'Release Date', 'Runtime (mins)', 'Title', 'Year', 'Genre: Short', 'Genre:  Comedy', \n",
    "           'Genre: Fantasy', 'Genre: Film-Noir', 'Genre: War', 'Genre: Musical', 'Genre:  Sport', 'Genre: Biography', \n",
    "           'Genre: Action', 'Genre:  Fantasy', 'Genre:  Animation', 'Genre:  Biography', 'Genre: Mystery', \n",
    "           'Genre:  Musical', 'Genre:  Romance', 'Genre: Thriller', 'Genre:  Film-Noir', 'Genre:  History', \n",
    "           'Genre: Western', 'Genre: Drama', 'Genre: Sci-Fi', 'Genre:  Horror', 'Genre: Romance', 'Genre: Adventure', \n",
    "           'Genre:  Family', 'Genre:  Sci-Fi', 'Genre: Animation', 'Genre:  Music', 'Genre: Music', 'Genre: History', \n",
    "           'Genre:  Mystery', 'Genre:  Thriller', 'Genre: Comedy', 'Genre:  Crime', 'Genre: Horror', 'Genre:  Drama', \n",
    "           'Genre:  War', 'Genre:  Western', 'Genre:  Adventure', 'Genre: Family', 'Genre:  Action', 'Genre: Crime', \n",
    "           'Content Rating: PASSED', 'Content Rating: TV-MA', 'Content Rating: X', 'Content Rating: NC-17', \n",
    "           'Content Rating: TV-14', 'Content Rating: M', 'Content Rating: GP', 'Content Rating: TV-PG', \n",
    "           'Content Rating: PG', 'Content Rating: PG-13', 'Content Rating: G', 'Content Rating: NR', \n",
    "           'Content Rating: APPROVED', 'Content Rating: UNRATED', 'Content Rating: M/PG', 'Content Rating: TV-13', \n",
    "           'Content Rating: NOT RATED', 'Content Rating: TV-G', 'Content Rating: R', 'Decade',  'Budget_Adjusted',  \n",
    "           'Length of Title', 'Directors Prev Number Movies', 'Directors Prev Mean Profit', 'Directors Prev Mean IMDb',\n",
    "           'Directors Prev Mean Meta', 'Directors Prev Mean Num Votes', 'Directors Prev Mean Nominations', \n",
    "           'Directors Prev Mean Wins', 'Actor Weights']]\n",
    "df_y = df[['Gross', 'IMDb Rating', 'Meta Score', 'Num Votes', 'Oscar Nominations', 'Oscar Wins', 'Other Nominations', \n",
    "           'Other Wins','Profit','Gross_Adjusted',  'Profit_Adjusted', 'Profit_Bool', 'Total Nominations', 'Total Wins']]"
   ]
  },
  {
   "cell_type": "code",
   "execution_count": 98,
   "metadata": {},
   "outputs": [],
   "source": [
    "actors_network = nx.read_yaml('Result_Data/network_of_actors.yaml')"
   ]
  },
  {
   "cell_type": "code",
   "execution_count": 99,
   "metadata": {},
   "outputs": [
    {
     "data": {
      "text/plain": [
       "{1, 2, 3, 4, 5, 6, 7, 8, 9, 11, 12, 19}"
      ]
     },
     "execution_count": 99,
     "metadata": {},
     "output_type": "execute_result"
    }
   ],
   "source": [
    "# networkx.Graph.degree   weighted number of edges  https://networkx.github.io/documentation/stable/reference/classes/generated/networkx.Graph.degree.html\n",
    "weights = []\n",
    "for edge in actors_network.edges():    \n",
    "    weights.append(actors_network.get_edge_data(edge[0],edge[1])['weight'])\n",
    "    \n",
    "set(sorted(weights)[::-1])\n",
    "#look into finding out who has 63 weights"
   ]
  },
  {
   "cell_type": "code",
   "execution_count": null,
   "metadata": {
    "scrolled": true
   },
   "outputs": [],
   "source": [
    "from sklearn.ensemble import RandomForestRegressor as RFR\n",
    "from sklearn.model_selection import train_test_split as tts\n",
    "from sklearn.model_selection import cross_val_score\n",
    "from sklearn.decomposition import PCA\n",
    "\n",
    "df_x_temp = df_x.select_dtypes(include=['float64','int','bool']).astype('float')\n",
    "for n_components in [10,20,50,100]:\n",
    "    for n_estimators in [10, 100, 500, 1000]:\n",
    "        for criterion in ['mae', 'mse']:\n",
    "            for max_features in ['auto', 'sqrt', 'log2']:\n",
    "                RF = RFR(n_estimators = n_estimators, criterion = criterion, max_features = max_features)\n",
    "                pca = PCA(n_components = n_components)\n",
    "                df_x_temp2 = pca.fit_transform(df_x_temp)\n",
    "                print(\"n_components: \", n_components,\"\\nn_estimators: \", n_estimators, \"\\ncriterion: \", criterion, \"\\nmax_features: \", max_features, \"\\n\")\n",
    "                print(cross_val_score(RF,df_x_temp2,df_y.select_dtypes(include=['float64','int','bool']).astype('float')),\"\\n\")\n",
    "                tr_x, tt_x, tr_y, tt_y = tts(df_x_temp2, df_y, test_size = .2)\n",
    "                RF.fit(tr_x,tr_y)\n",
    "                es_y = RF.predict(tt_x)\n",
    "                np.array(tt_y.astype(float))[0:,0]\n",
    "                print(\"\\nMovie Gross Average Percent Error:\")\n",
    "                print((abs(es_y[0:,0]-np.array(tt_y.astype(float))[0:,0])/np.array(tt_y.astype(float))[0:,0]).mean()*100,\"%\")\n",
    "                print(\"\\nIMDb Rating Average Percent Error:\")\n",
    "                print((abs(es_y[0:,1]-np.array(tt_y.astype(float))[0:,1])/np.array(tt_y.astype(float))[0:,1]).mean()*100,\"%\")\n",
    "                print(\"\\nMeta Score Average Percent Error:\")\n",
    "                print((abs(es_y[0:,2]-np.array(tt_y.astype(float))[0:,2])/np.array(tt_y.astype(float))[0:,2]).mean()*100,\"%\")\n",
    "                print(\"\\nNumber of Votes Average Percent Error:\")\n",
    "                print((abs(es_y[0:,3]-np.array(tt_y.astype(float))[0:,3])/np.array(tt_y.astype(float))[0:,3]).mean()*100,\"%\")\n",
    "                print(\"\\nOscar Nominations Average Error:\")\n",
    "                print(abs(es_y[0:,4]-np.array(tt_y.astype(float))[0:,4]).mean())\n",
    "                print(\"\\nOscar Wins Average Error:\")\n",
    "                print(abs(es_y[0:,5]-np.array(tt_y.astype(float))[0:,5]).mean())\n",
    "                print(\"\\nOther Nominations Average Error:\")\n",
    "                print(abs(es_y[0:,6]-np.array(tt_y.astype(float))[0:,6]).mean())\n",
    "                print(\"\\nOther Wins Average Error:\")\n",
    "                print(abs(es_y[0:,7]-np.array(tt_y.astype(float))[0:,7]).mean())\n",
    "                print(\"\\nProfit Average Percent Error:\")\n",
    "                print((abs(es_y[0:,8]-np.array(tt_y.astype(float))[0:,8])/np.array(tt_y.astype(float))[0:,8]).mean()*100,\"%\")\n",
    "                print(\"\\nGross Adjusted Average Percent Error:\")\n",
    "                print((abs(es_y[0:,9]-np.array(tt_y.astype(float))[0:,9])/np.array(tt_y.astype(float))[0:,9]).mean()*100,\"%\")\n",
    "                print(\"\\nProfit Adjusted Average Percent Error:\")\n",
    "                print((abs(es_y[0:,10]-np.array(tt_y.astype(float))[0:,10])/np.array(tt_y.astype(float))[0:,10]).mean()*100,\"%\")\n",
    "                print(\"\\nProfit Bool Average Error:\")\n",
    "                print(abs(es_y[0:,11]-np.array(tt_y.astype(float))[0:,11]).mean())\n",
    "                print(\"\\nTotal Nominations Average Error:\")\n",
    "                print(abs(es_y[0:,12]-np.array(tt_y.astype(float))[0:,12]).mean())\n",
    "                print(\"\\nTotal Wins Average Error:\")\n",
    "                print(abs(es_y[0:,13]-np.array(tt_y.astype(float))[0:,13]).mean())\n",
    "                print(\"\\n\\n\\n\\n\\n\\n\")\n",
    "\n"
   ]
  },
  {
   "cell_type": "code",
   "execution_count": null,
   "metadata": {},
   "outputs": [],
   "source": [
    "# importing all libraries to be used throughout data exploration\n",
    "import re, json, requests, seaborn, warnings\n",
    "warnings.filterwarnings( 'ignore' )\n",
    "import pandas as pd\n",
    "from bs4 import BeautifulSoup\n",
    "import numpy as np\n",
    "from matplotlib import pyplot as plt, rcParams\n",
    "%matplotlib inline\n",
    "from selenium import webdriver\n",
    "from selenium.webdriver.common.keys import Keys\n",
    "from selenium.common.exceptions import NoSuchElementException\n",
    "from ipyparallel import Client\n",
    "import time\n",
    "def text_message(text,number):\n",
    "    browser = webdriver.Chrome()\n",
    "    url = \"http://www.txtdrop.com/\"\n",
    "    browser.get( url )\n",
    "    email = browser.find_element_by_id(\"emailfrom\")\n",
    "    email.send_keys(\"brookemosby@hotmail.com\")\n",
    "    first_3 = browser.find_element_by_id(\"npa\")\n",
    "    first_3.send_keys(number[:3])\n",
    "    second_3 = browser.find_element_by_id(\"exchange\")\n",
    "    second_3.send_keys(number[3:6])\n",
    "    last_4 = browser.find_element_by_id(\"number\")\n",
    "    last_4.send_keys(number[6:])\n",
    "    message = browser.find_element_by_name(\"body\")\n",
    "    message.send_keys(text)\n",
    "    browser.find_element_by_name(\"submit\").click()\n",
    "    browser.close()\n",
    "text_message(\"Finished\",\"6787995970\")"
   ]
  },
  {
   "cell_type": "code",
   "execution_count": null,
   "metadata": {
    "collapsed": true
   },
   "outputs": [],
   "source": [
    "# Do some feature engineering with new actor dataset\n",
    "# Add in column for popularity\n",
    "# Need to make actor DataFrame?"
   ]
  },
  {
   "cell_type": "code",
   "execution_count": null,
   "metadata": {
    "collapsed": true
   },
   "outputs": [],
   "source": [
    "# Talk about machine learning methods, why there are good and suitable for our data"
   ]
  },
  {
   "cell_type": "code",
   "execution_count": 1,
   "metadata": {
    "collapsed": true
   },
   "outputs": [],
   "source": [
    "# And now do some machine learning...."
   ]
  },
  {
   "cell_type": "code",
   "execution_count": 2,
   "metadata": {
    "collapsed": true
   },
   "outputs": [],
   "source": [
    "# Analyze ML models"
   ]
  },
  {
   "cell_type": "code",
   "execution_count": null,
   "metadata": {
    "collapsed": true
   },
   "outputs": [],
   "source": [
    "# Case study to see how well we predict on a specific movie"
   ]
  },
  {
   "cell_type": "code",
   "execution_count": null,
   "metadata": {
    "collapsed": true
   },
   "outputs": [],
   "source": [
    "# Insert some amazing conclusion here"
   ]
  }
 ],
 "metadata": {
  "kernelspec": {
   "display_name": "Python 3",
   "language": "python",
   "name": "python3"
  },
  "language_info": {
   "codemirror_mode": {
    "name": "ipython",
    "version": 3
   },
   "file_extension": ".py",
   "mimetype": "text/x-python",
   "name": "python",
   "nbconvert_exporter": "python",
   "pygments_lexer": "ipython3",
   "version": "3.6.1"
  }
 },
 "nbformat": 4,
 "nbformat_minor": 2
}
